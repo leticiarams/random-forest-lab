{
 "cells": [
  {
   "cell_type": "code",
   "execution_count": 261,
   "metadata": {},
   "outputs": [],
   "source": [
    "# Pandas is used for data manipulation\n",
    "import pandas as pd\n",
    "# Use numpy to convert to arrays\n",
    "import numpy as np\n",
    "# Using Skicit-learn to split data into training and testing sets\n",
    "from sklearn.model_selection import train_test_split\n",
    "\n",
    "# To show a figure in notebook\n",
    "from IPython.display import Image\n",
    "\n",
    "# Import matplotlib for plotting and use magic command for Jupyter Notebooks\n",
    "import matplotlib.pyplot as plt\n",
    "%matplotlib inline\n",
    "# Use datetime for creating date objects for plotting\n",
    "import datetime\n",
    "\n",
    "from tabulate import tabulate as tb\n",
    "from anytree import Node, RenderTree\n",
    "from anytree import search as anys\n",
    "from anytree.exporter import DotExporter\n",
    "from IPython.display import Image"
   ]
  },
  {
   "cell_type": "code",
   "execution_count": 2,
   "metadata": {},
   "outputs": [
    {
     "data": {
      "text/html": [
       "<div>\n",
       "<style scoped>\n",
       "    .dataframe tbody tr th:only-of-type {\n",
       "        vertical-align: middle;\n",
       "    }\n",
       "\n",
       "    .dataframe tbody tr th {\n",
       "        vertical-align: top;\n",
       "    }\n",
       "\n",
       "    .dataframe thead th {\n",
       "        text-align: right;\n",
       "    }\n",
       "</style>\n",
       "<table border=\"1\" class=\"dataframe\">\n",
       "  <thead>\n",
       "    <tr style=\"text-align: right;\">\n",
       "      <th></th>\n",
       "      <th>year</th>\n",
       "      <th>month</th>\n",
       "      <th>day</th>\n",
       "      <th>week</th>\n",
       "      <th>temp_2</th>\n",
       "      <th>temp_1</th>\n",
       "      <th>average</th>\n",
       "      <th>actual</th>\n",
       "      <th>forecast_noaa</th>\n",
       "      <th>forecast_acc</th>\n",
       "      <th>forecast_under</th>\n",
       "      <th>friend</th>\n",
       "    </tr>\n",
       "  </thead>\n",
       "  <tbody>\n",
       "    <tr>\n",
       "      <th>0</th>\n",
       "      <td>2016</td>\n",
       "      <td>1</td>\n",
       "      <td>1</td>\n",
       "      <td>Fri</td>\n",
       "      <td>45</td>\n",
       "      <td>45</td>\n",
       "      <td>45.6</td>\n",
       "      <td>45</td>\n",
       "      <td>43</td>\n",
       "      <td>50</td>\n",
       "      <td>44</td>\n",
       "      <td>29</td>\n",
       "    </tr>\n",
       "    <tr>\n",
       "      <th>1</th>\n",
       "      <td>2016</td>\n",
       "      <td>1</td>\n",
       "      <td>2</td>\n",
       "      <td>Sat</td>\n",
       "      <td>44</td>\n",
       "      <td>45</td>\n",
       "      <td>45.7</td>\n",
       "      <td>44</td>\n",
       "      <td>41</td>\n",
       "      <td>50</td>\n",
       "      <td>44</td>\n",
       "      <td>61</td>\n",
       "    </tr>\n",
       "    <tr>\n",
       "      <th>2</th>\n",
       "      <td>2016</td>\n",
       "      <td>1</td>\n",
       "      <td>3</td>\n",
       "      <td>Sun</td>\n",
       "      <td>45</td>\n",
       "      <td>44</td>\n",
       "      <td>45.8</td>\n",
       "      <td>41</td>\n",
       "      <td>43</td>\n",
       "      <td>46</td>\n",
       "      <td>47</td>\n",
       "      <td>56</td>\n",
       "    </tr>\n",
       "    <tr>\n",
       "      <th>3</th>\n",
       "      <td>2016</td>\n",
       "      <td>1</td>\n",
       "      <td>4</td>\n",
       "      <td>Mon</td>\n",
       "      <td>44</td>\n",
       "      <td>41</td>\n",
       "      <td>45.9</td>\n",
       "      <td>40</td>\n",
       "      <td>44</td>\n",
       "      <td>48</td>\n",
       "      <td>46</td>\n",
       "      <td>53</td>\n",
       "    </tr>\n",
       "    <tr>\n",
       "      <th>4</th>\n",
       "      <td>2016</td>\n",
       "      <td>1</td>\n",
       "      <td>5</td>\n",
       "      <td>Tues</td>\n",
       "      <td>41</td>\n",
       "      <td>40</td>\n",
       "      <td>46.0</td>\n",
       "      <td>44</td>\n",
       "      <td>46</td>\n",
       "      <td>46</td>\n",
       "      <td>46</td>\n",
       "      <td>41</td>\n",
       "    </tr>\n",
       "  </tbody>\n",
       "</table>\n",
       "</div>"
      ],
      "text/plain": [
       "   year  month  day  week  temp_2  temp_1  average  actual  forecast_noaa  \\\n",
       "0  2016      1    1   Fri      45      45     45.6      45             43   \n",
       "1  2016      1    2   Sat      44      45     45.7      44             41   \n",
       "2  2016      1    3   Sun      45      44     45.8      41             43   \n",
       "3  2016      1    4   Mon      44      41     45.9      40             44   \n",
       "4  2016      1    5  Tues      41      40     46.0      44             46   \n",
       "\n",
       "   forecast_acc  forecast_under  friend  \n",
       "0            50              44      29  \n",
       "1            50              44      61  \n",
       "2            46              47      56  \n",
       "3            48              46      53  \n",
       "4            46              46      41  "
      ]
     },
     "execution_count": 2,
     "metadata": {},
     "output_type": "execute_result"
    }
   ],
   "source": [
    "# Read in data and display first 5 rows\n",
    "features = pd.read_csv('temps.csv')\n",
    "features.head(5)"
   ]
  },
  {
   "cell_type": "code",
   "execution_count": 3,
   "metadata": {},
   "outputs": [
    {
     "name": "stdout",
     "output_type": "stream",
     "text": [
      "The shape of our features is: (348, 12)\n"
     ]
    }
   ],
   "source": [
    "print('The shape of our features is:', features.shape)"
   ]
  },
  {
   "cell_type": "code",
   "execution_count": 4,
   "metadata": {
    "scrolled": true
   },
   "outputs": [
    {
     "data": {
      "text/html": [
       "<div>\n",
       "<style scoped>\n",
       "    .dataframe tbody tr th:only-of-type {\n",
       "        vertical-align: middle;\n",
       "    }\n",
       "\n",
       "    .dataframe tbody tr th {\n",
       "        vertical-align: top;\n",
       "    }\n",
       "\n",
       "    .dataframe thead th {\n",
       "        text-align: right;\n",
       "    }\n",
       "</style>\n",
       "<table border=\"1\" class=\"dataframe\">\n",
       "  <thead>\n",
       "    <tr style=\"text-align: right;\">\n",
       "      <th></th>\n",
       "      <th>year</th>\n",
       "      <th>month</th>\n",
       "      <th>day</th>\n",
       "      <th>temp_2</th>\n",
       "      <th>temp_1</th>\n",
       "      <th>average</th>\n",
       "      <th>actual</th>\n",
       "      <th>forecast_noaa</th>\n",
       "      <th>forecast_acc</th>\n",
       "      <th>forecast_under</th>\n",
       "      <th>friend</th>\n",
       "    </tr>\n",
       "  </thead>\n",
       "  <tbody>\n",
       "    <tr>\n",
       "      <th>count</th>\n",
       "      <td>348.0</td>\n",
       "      <td>348.000000</td>\n",
       "      <td>348.000000</td>\n",
       "      <td>348.000000</td>\n",
       "      <td>348.000000</td>\n",
       "      <td>348.000000</td>\n",
       "      <td>348.000000</td>\n",
       "      <td>348.000000</td>\n",
       "      <td>348.000000</td>\n",
       "      <td>348.000000</td>\n",
       "      <td>348.000000</td>\n",
       "    </tr>\n",
       "    <tr>\n",
       "      <th>mean</th>\n",
       "      <td>2016.0</td>\n",
       "      <td>6.477011</td>\n",
       "      <td>15.514368</td>\n",
       "      <td>62.652299</td>\n",
       "      <td>62.701149</td>\n",
       "      <td>59.760632</td>\n",
       "      <td>62.543103</td>\n",
       "      <td>57.238506</td>\n",
       "      <td>62.373563</td>\n",
       "      <td>59.772989</td>\n",
       "      <td>60.034483</td>\n",
       "    </tr>\n",
       "    <tr>\n",
       "      <th>std</th>\n",
       "      <td>0.0</td>\n",
       "      <td>3.498380</td>\n",
       "      <td>8.772982</td>\n",
       "      <td>12.165398</td>\n",
       "      <td>12.120542</td>\n",
       "      <td>10.527306</td>\n",
       "      <td>11.794146</td>\n",
       "      <td>10.605746</td>\n",
       "      <td>10.549381</td>\n",
       "      <td>10.705256</td>\n",
       "      <td>15.626179</td>\n",
       "    </tr>\n",
       "    <tr>\n",
       "      <th>min</th>\n",
       "      <td>2016.0</td>\n",
       "      <td>1.000000</td>\n",
       "      <td>1.000000</td>\n",
       "      <td>35.000000</td>\n",
       "      <td>35.000000</td>\n",
       "      <td>45.100000</td>\n",
       "      <td>35.000000</td>\n",
       "      <td>41.000000</td>\n",
       "      <td>46.000000</td>\n",
       "      <td>44.000000</td>\n",
       "      <td>28.000000</td>\n",
       "    </tr>\n",
       "    <tr>\n",
       "      <th>25%</th>\n",
       "      <td>2016.0</td>\n",
       "      <td>3.000000</td>\n",
       "      <td>8.000000</td>\n",
       "      <td>54.000000</td>\n",
       "      <td>54.000000</td>\n",
       "      <td>49.975000</td>\n",
       "      <td>54.000000</td>\n",
       "      <td>48.000000</td>\n",
       "      <td>53.000000</td>\n",
       "      <td>50.000000</td>\n",
       "      <td>47.750000</td>\n",
       "    </tr>\n",
       "    <tr>\n",
       "      <th>50%</th>\n",
       "      <td>2016.0</td>\n",
       "      <td>6.000000</td>\n",
       "      <td>15.000000</td>\n",
       "      <td>62.500000</td>\n",
       "      <td>62.500000</td>\n",
       "      <td>58.200000</td>\n",
       "      <td>62.500000</td>\n",
       "      <td>56.000000</td>\n",
       "      <td>61.000000</td>\n",
       "      <td>58.000000</td>\n",
       "      <td>60.000000</td>\n",
       "    </tr>\n",
       "    <tr>\n",
       "      <th>75%</th>\n",
       "      <td>2016.0</td>\n",
       "      <td>10.000000</td>\n",
       "      <td>23.000000</td>\n",
       "      <td>71.000000</td>\n",
       "      <td>71.000000</td>\n",
       "      <td>69.025000</td>\n",
       "      <td>71.000000</td>\n",
       "      <td>66.000000</td>\n",
       "      <td>72.000000</td>\n",
       "      <td>69.000000</td>\n",
       "      <td>71.000000</td>\n",
       "    </tr>\n",
       "    <tr>\n",
       "      <th>max</th>\n",
       "      <td>2016.0</td>\n",
       "      <td>12.000000</td>\n",
       "      <td>31.000000</td>\n",
       "      <td>117.000000</td>\n",
       "      <td>117.000000</td>\n",
       "      <td>77.400000</td>\n",
       "      <td>92.000000</td>\n",
       "      <td>77.000000</td>\n",
       "      <td>82.000000</td>\n",
       "      <td>79.000000</td>\n",
       "      <td>95.000000</td>\n",
       "    </tr>\n",
       "  </tbody>\n",
       "</table>\n",
       "</div>"
      ],
      "text/plain": [
       "         year       month         day      temp_2      temp_1     average  \\\n",
       "count   348.0  348.000000  348.000000  348.000000  348.000000  348.000000   \n",
       "mean   2016.0    6.477011   15.514368   62.652299   62.701149   59.760632   \n",
       "std       0.0    3.498380    8.772982   12.165398   12.120542   10.527306   \n",
       "min    2016.0    1.000000    1.000000   35.000000   35.000000   45.100000   \n",
       "25%    2016.0    3.000000    8.000000   54.000000   54.000000   49.975000   \n",
       "50%    2016.0    6.000000   15.000000   62.500000   62.500000   58.200000   \n",
       "75%    2016.0   10.000000   23.000000   71.000000   71.000000   69.025000   \n",
       "max    2016.0   12.000000   31.000000  117.000000  117.000000   77.400000   \n",
       "\n",
       "           actual  forecast_noaa  forecast_acc  forecast_under      friend  \n",
       "count  348.000000     348.000000    348.000000      348.000000  348.000000  \n",
       "mean    62.543103      57.238506     62.373563       59.772989   60.034483  \n",
       "std     11.794146      10.605746     10.549381       10.705256   15.626179  \n",
       "min     35.000000      41.000000     46.000000       44.000000   28.000000  \n",
       "25%     54.000000      48.000000     53.000000       50.000000   47.750000  \n",
       "50%     62.500000      56.000000     61.000000       58.000000   60.000000  \n",
       "75%     71.000000      66.000000     72.000000       69.000000   71.000000  \n",
       "max     92.000000      77.000000     82.000000       79.000000   95.000000  "
      ]
     },
     "execution_count": 4,
     "metadata": {},
     "output_type": "execute_result"
    }
   ],
   "source": [
    "# Descriptive statistics for each column\n",
    "features.describe()"
   ]
  },
  {
   "cell_type": "code",
   "execution_count": 5,
   "metadata": {
    "scrolled": true
   },
   "outputs": [
    {
     "data": {
      "text/html": [
       "<div>\n",
       "<style scoped>\n",
       "    .dataframe tbody tr th:only-of-type {\n",
       "        vertical-align: middle;\n",
       "    }\n",
       "\n",
       "    .dataframe tbody tr th {\n",
       "        vertical-align: top;\n",
       "    }\n",
       "\n",
       "    .dataframe thead th {\n",
       "        text-align: right;\n",
       "    }\n",
       "</style>\n",
       "<table border=\"1\" class=\"dataframe\">\n",
       "  <thead>\n",
       "    <tr style=\"text-align: right;\">\n",
       "      <th></th>\n",
       "      <th>average</th>\n",
       "      <th>actual</th>\n",
       "      <th>forecast_noaa</th>\n",
       "      <th>forecast_acc</th>\n",
       "      <th>forecast_under</th>\n",
       "      <th>friend</th>\n",
       "      <th>week_Fri</th>\n",
       "      <th>week_Mon</th>\n",
       "      <th>week_Sat</th>\n",
       "      <th>week_Sun</th>\n",
       "      <th>week_Thurs</th>\n",
       "      <th>week_Tues</th>\n",
       "      <th>week_Wed</th>\n",
       "    </tr>\n",
       "  </thead>\n",
       "  <tbody>\n",
       "    <tr>\n",
       "      <th>0</th>\n",
       "      <td>45.6</td>\n",
       "      <td>45</td>\n",
       "      <td>43</td>\n",
       "      <td>50</td>\n",
       "      <td>44</td>\n",
       "      <td>29</td>\n",
       "      <td>1</td>\n",
       "      <td>0</td>\n",
       "      <td>0</td>\n",
       "      <td>0</td>\n",
       "      <td>0</td>\n",
       "      <td>0</td>\n",
       "      <td>0</td>\n",
       "    </tr>\n",
       "    <tr>\n",
       "      <th>1</th>\n",
       "      <td>45.7</td>\n",
       "      <td>44</td>\n",
       "      <td>41</td>\n",
       "      <td>50</td>\n",
       "      <td>44</td>\n",
       "      <td>61</td>\n",
       "      <td>0</td>\n",
       "      <td>0</td>\n",
       "      <td>1</td>\n",
       "      <td>0</td>\n",
       "      <td>0</td>\n",
       "      <td>0</td>\n",
       "      <td>0</td>\n",
       "    </tr>\n",
       "    <tr>\n",
       "      <th>2</th>\n",
       "      <td>45.8</td>\n",
       "      <td>41</td>\n",
       "      <td>43</td>\n",
       "      <td>46</td>\n",
       "      <td>47</td>\n",
       "      <td>56</td>\n",
       "      <td>0</td>\n",
       "      <td>0</td>\n",
       "      <td>0</td>\n",
       "      <td>1</td>\n",
       "      <td>0</td>\n",
       "      <td>0</td>\n",
       "      <td>0</td>\n",
       "    </tr>\n",
       "    <tr>\n",
       "      <th>3</th>\n",
       "      <td>45.9</td>\n",
       "      <td>40</td>\n",
       "      <td>44</td>\n",
       "      <td>48</td>\n",
       "      <td>46</td>\n",
       "      <td>53</td>\n",
       "      <td>0</td>\n",
       "      <td>1</td>\n",
       "      <td>0</td>\n",
       "      <td>0</td>\n",
       "      <td>0</td>\n",
       "      <td>0</td>\n",
       "      <td>0</td>\n",
       "    </tr>\n",
       "    <tr>\n",
       "      <th>4</th>\n",
       "      <td>46.0</td>\n",
       "      <td>44</td>\n",
       "      <td>46</td>\n",
       "      <td>46</td>\n",
       "      <td>46</td>\n",
       "      <td>41</td>\n",
       "      <td>0</td>\n",
       "      <td>0</td>\n",
       "      <td>0</td>\n",
       "      <td>0</td>\n",
       "      <td>0</td>\n",
       "      <td>1</td>\n",
       "      <td>0</td>\n",
       "    </tr>\n",
       "  </tbody>\n",
       "</table>\n",
       "</div>"
      ],
      "text/plain": [
       "   average  actual  forecast_noaa  forecast_acc  forecast_under  friend  \\\n",
       "0     45.6      45             43            50              44      29   \n",
       "1     45.7      44             41            50              44      61   \n",
       "2     45.8      41             43            46              47      56   \n",
       "3     45.9      40             44            48              46      53   \n",
       "4     46.0      44             46            46              46      41   \n",
       "\n",
       "   week_Fri  week_Mon  week_Sat  week_Sun  week_Thurs  week_Tues  week_Wed  \n",
       "0         1         0         0         0           0          0         0  \n",
       "1         0         0         1         0           0          0         0  \n",
       "2         0         0         0         1           0          0         0  \n",
       "3         0         1         0         0           0          0         0  \n",
       "4         0         0         0         0           0          1         0  "
      ]
     },
     "execution_count": 5,
     "metadata": {},
     "output_type": "execute_result"
    }
   ],
   "source": [
    "# One-hot encode the data using pandas get_dummies\n",
    "features = pd.get_dummies(features)\n",
    "# Display the first 5 rows of the last 12 columns\n",
    "features.iloc[:,5:].head(5)"
   ]
  },
  {
   "cell_type": "code",
   "execution_count": 6,
   "metadata": {
    "scrolled": true
   },
   "outputs": [
    {
     "data": {
      "text/html": [
       "<div>\n",
       "<style scoped>\n",
       "    .dataframe tbody tr th:only-of-type {\n",
       "        vertical-align: middle;\n",
       "    }\n",
       "\n",
       "    .dataframe tbody tr th {\n",
       "        vertical-align: top;\n",
       "    }\n",
       "\n",
       "    .dataframe thead th {\n",
       "        text-align: right;\n",
       "    }\n",
       "</style>\n",
       "<table border=\"1\" class=\"dataframe\">\n",
       "  <thead>\n",
       "    <tr style=\"text-align: right;\">\n",
       "      <th></th>\n",
       "      <th>year</th>\n",
       "      <th>month</th>\n",
       "      <th>day</th>\n",
       "      <th>temp_2</th>\n",
       "      <th>temp_1</th>\n",
       "      <th>average</th>\n",
       "      <th>actual</th>\n",
       "      <th>forecast_noaa</th>\n",
       "      <th>forecast_acc</th>\n",
       "      <th>forecast_under</th>\n",
       "      <th>friend</th>\n",
       "      <th>week_Fri</th>\n",
       "      <th>week_Mon</th>\n",
       "      <th>week_Sat</th>\n",
       "      <th>week_Sun</th>\n",
       "      <th>week_Thurs</th>\n",
       "      <th>week_Tues</th>\n",
       "      <th>week_Wed</th>\n",
       "    </tr>\n",
       "  </thead>\n",
       "  <tbody>\n",
       "    <tr>\n",
       "      <th>0</th>\n",
       "      <td>2016</td>\n",
       "      <td>1</td>\n",
       "      <td>1</td>\n",
       "      <td>45</td>\n",
       "      <td>45</td>\n",
       "      <td>45.6</td>\n",
       "      <td>45</td>\n",
       "      <td>43</td>\n",
       "      <td>50</td>\n",
       "      <td>44</td>\n",
       "      <td>29</td>\n",
       "      <td>1</td>\n",
       "      <td>0</td>\n",
       "      <td>0</td>\n",
       "      <td>0</td>\n",
       "      <td>0</td>\n",
       "      <td>0</td>\n",
       "      <td>0</td>\n",
       "    </tr>\n",
       "    <tr>\n",
       "      <th>1</th>\n",
       "      <td>2016</td>\n",
       "      <td>1</td>\n",
       "      <td>2</td>\n",
       "      <td>44</td>\n",
       "      <td>45</td>\n",
       "      <td>45.7</td>\n",
       "      <td>44</td>\n",
       "      <td>41</td>\n",
       "      <td>50</td>\n",
       "      <td>44</td>\n",
       "      <td>61</td>\n",
       "      <td>0</td>\n",
       "      <td>0</td>\n",
       "      <td>1</td>\n",
       "      <td>0</td>\n",
       "      <td>0</td>\n",
       "      <td>0</td>\n",
       "      <td>0</td>\n",
       "    </tr>\n",
       "    <tr>\n",
       "      <th>2</th>\n",
       "      <td>2016</td>\n",
       "      <td>1</td>\n",
       "      <td>3</td>\n",
       "      <td>45</td>\n",
       "      <td>44</td>\n",
       "      <td>45.8</td>\n",
       "      <td>41</td>\n",
       "      <td>43</td>\n",
       "      <td>46</td>\n",
       "      <td>47</td>\n",
       "      <td>56</td>\n",
       "      <td>0</td>\n",
       "      <td>0</td>\n",
       "      <td>0</td>\n",
       "      <td>1</td>\n",
       "      <td>0</td>\n",
       "      <td>0</td>\n",
       "      <td>0</td>\n",
       "    </tr>\n",
       "    <tr>\n",
       "      <th>3</th>\n",
       "      <td>2016</td>\n",
       "      <td>1</td>\n",
       "      <td>4</td>\n",
       "      <td>44</td>\n",
       "      <td>41</td>\n",
       "      <td>45.9</td>\n",
       "      <td>40</td>\n",
       "      <td>44</td>\n",
       "      <td>48</td>\n",
       "      <td>46</td>\n",
       "      <td>53</td>\n",
       "      <td>0</td>\n",
       "      <td>1</td>\n",
       "      <td>0</td>\n",
       "      <td>0</td>\n",
       "      <td>0</td>\n",
       "      <td>0</td>\n",
       "      <td>0</td>\n",
       "    </tr>\n",
       "    <tr>\n",
       "      <th>4</th>\n",
       "      <td>2016</td>\n",
       "      <td>1</td>\n",
       "      <td>5</td>\n",
       "      <td>41</td>\n",
       "      <td>40</td>\n",
       "      <td>46.0</td>\n",
       "      <td>44</td>\n",
       "      <td>46</td>\n",
       "      <td>46</td>\n",
       "      <td>46</td>\n",
       "      <td>41</td>\n",
       "      <td>0</td>\n",
       "      <td>0</td>\n",
       "      <td>0</td>\n",
       "      <td>0</td>\n",
       "      <td>0</td>\n",
       "      <td>1</td>\n",
       "      <td>0</td>\n",
       "    </tr>\n",
       "  </tbody>\n",
       "</table>\n",
       "</div>"
      ],
      "text/plain": [
       "   year  month  day  temp_2  temp_1  average  actual  forecast_noaa  \\\n",
       "0  2016      1    1      45      45     45.6      45             43   \n",
       "1  2016      1    2      44      45     45.7      44             41   \n",
       "2  2016      1    3      45      44     45.8      41             43   \n",
       "3  2016      1    4      44      41     45.9      40             44   \n",
       "4  2016      1    5      41      40     46.0      44             46   \n",
       "\n",
       "   forecast_acc  forecast_under  friend  week_Fri  week_Mon  week_Sat  \\\n",
       "0            50              44      29         1         0         0   \n",
       "1            50              44      61         0         0         1   \n",
       "2            46              47      56         0         0         0   \n",
       "3            48              46      53         0         1         0   \n",
       "4            46              46      41         0         0         0   \n",
       "\n",
       "   week_Sun  week_Thurs  week_Tues  week_Wed  \n",
       "0         0           0          0         0  \n",
       "1         0           0          0         0  \n",
       "2         1           0          0         0  \n",
       "3         0           0          0         0  \n",
       "4         0           0          1         0  "
      ]
     },
     "execution_count": 6,
     "metadata": {},
     "output_type": "execute_result"
    }
   ],
   "source": [
    "features.head(5)"
   ]
  },
  {
   "cell_type": "code",
   "execution_count": 7,
   "metadata": {},
   "outputs": [],
   "source": [
    "# Labels are the values we want to predict\n",
    "labels = np.array(features['actual'])\n",
    "# Remove the labels from the features\n",
    "# axis 1 refers to the columns\n",
    "features= features.drop('actual', axis = 1)\n",
    "# Saving feature names for later use\n",
    "feature_list = list(features.columns)\n",
    "# Convert to numpy array\n",
    "features = np.array(features)"
   ]
  },
  {
   "cell_type": "code",
   "execution_count": 8,
   "metadata": {},
   "outputs": [],
   "source": [
    "# Split the data into training and testing sets\n",
    "train_features, test_features, train_labels, test_labels = train_test_split(features, labels, test_size = 0.25, random_state = 42)"
   ]
  },
  {
   "cell_type": "code",
   "execution_count": 9,
   "metadata": {},
   "outputs": [
    {
     "name": "stdout",
     "output_type": "stream",
     "text": [
      "Training Features Shape: (261, 17)\n",
      "Training Labels Shape: (261,)\n",
      "Testing Features Shape: (87, 17)\n",
      "Testing Labels Shape: (87,)\n"
     ]
    }
   ],
   "source": [
    "print('Training Features Shape:', train_features.shape)\n",
    "print('Training Labels Shape:', train_labels.shape)\n",
    "print('Testing Features Shape:', test_features.shape)\n",
    "print('Testing Labels Shape:', test_labels.shape)"
   ]
  },
  {
   "cell_type": "code",
   "execution_count": 252,
   "metadata": {},
   "outputs": [],
   "source": [
    "def mse(num_feat,train_features,train_labels):\n",
    "    mean_featu = train_features[:,num_feat].mean()\n",
    "    templeq = train_features[:,num_feat] <= mean_featu\n",
    "    tempg = train_features[:,num_feat] >= mean_featu\n",
    "    mse_out = train_labels[templeq].std()+train_labels[tempg].std()\n",
    "    return mse_out, mean_featu, (templeq*1).sum(), (tempg*1).sum()\n"
   ]
  },
  {
   "cell_type": "code",
   "execution_count": 70,
   "metadata": {},
   "outputs": [
    {
     "name": "stderr",
     "output_type": "stream",
     "text": [
      "/usr/local/lib/python3.6/dist-packages/numpy/core/_methods.py:140: RuntimeWarning: Degrees of freedom <= 0 for slice\n",
      "  keepdims=keepdims)\n",
      "/usr/local/lib/python3.6/dist-packages/numpy/core/_methods.py:110: RuntimeWarning: invalid value encountered in true_divide\n",
      "  arrmean, rcount, out=arrmean, casting='unsafe', subok=False)\n",
      "/usr/local/lib/python3.6/dist-packages/numpy/core/_methods.py:132: RuntimeWarning: invalid value encountered in double_scalars\n",
      "  ret = ret.dtype.type(ret / rcount)\n"
     ]
    },
    {
     "data": {
      "text/plain": [
       "(nan, 2016.0, 261, 0)"
      ]
     },
     "execution_count": 70,
     "metadata": {},
     "output_type": "execute_result"
    }
   ],
   "source": [
    "mse(0,train_features,train_labels)"
   ]
  },
  {
   "cell_type": "code",
   "execution_count": 253,
   "metadata": {},
   "outputs": [],
   "source": [
    "def best_split(train_features,train_labels):\n",
    "    n = 1\n",
    "    mse_out, mean_featu, numg, numl = mse(n,train_features,train_labels)\n",
    "    for i in range(n+1,train_features.shape[1]):\n",
    "        mse_temp, mean_temp, tnumg, tnuml = mse(i,train_features,train_labels)\n",
    "        if (mse_out > mse_temp):\n",
    "            mse_out = mse_temp\n",
    "            n = i\n",
    "            mean_featu = mean_temp\n",
    "            numg = tnumg\n",
    "            numl = tnuml\n",
    "    return mse_out, mean_featu, n, numl, numg\n",
    "\n",
    "\n",
    "def func_leaf(arg):\n",
    "    return arg[1], (1-arg[0]/arg[1])"
   ]
  },
  {
   "cell_type": "code",
   "execution_count": 80,
   "metadata": {},
   "outputs": [
    {
     "data": {
      "text/plain": [
       "(14.94189129669283, 62.888888888888886, 4, 134, 127)"
      ]
     },
     "execution_count": 80,
     "metadata": {},
     "output_type": "execute_result"
    }
   ],
   "source": [
    "best_split(train_features,train_labels)"
   ]
  },
  {
   "cell_type": "code",
   "execution_count": 81,
   "metadata": {},
   "outputs": [],
   "source": [
    "tree = {}\n",
    "tree['node'] = best_split(train_features,train_labels)\n",
    "tree['greater'] = {}\n",
    "tree['less'] = {}"
   ]
  },
  {
   "cell_type": "code",
   "execution_count": 82,
   "metadata": {},
   "outputs": [
    {
     "data": {
      "text/plain": [
       "(14.94189129669283, 62.888888888888886, 4, 134, 127)"
      ]
     },
     "execution_count": 82,
     "metadata": {},
     "output_type": "execute_result"
    }
   ],
   "source": [
    "tree['node']"
   ]
  },
  {
   "cell_type": "code",
   "execution_count": 244,
   "metadata": {},
   "outputs": [],
   "source": [
    "min_mse_rel = 0.5\n",
    "mean_feat = tree['node'][1]\n",
    "n_feat = tree['node'][2]\n",
    "\n",
    "tempg = train_features[train_features[:,n_feat]>=mean_feat,:]\n",
    "labelg = train_labels[train_features[:,n_feat]>=mean_feat]\n",
    "\n",
    "nodeg = {}\n",
    "bs_temp = best_split(tempg,labelg)\n",
    "if (bs_temp[0]/bs_temp[1] < min_mse_rel):\n",
    "    nodeg['leaf'] = func_leaf(bs_temp)\n",
    "    tree['greater'] = nodeg\n",
    "else:\n",
    "    nodeg['node'] = bs_temp\n",
    "    nodeg['greater'] = {}\n",
    "    nodeg['less'] = {}\n",
    "    tree['greater'] = nodeg\n",
    "\n",
    "templ = train_features[train_features[:,n_feat]<=mean_feat,:]\n",
    "labell = train_labels[train_features[:,n_feat]<=mean_feat]\n",
    "\n",
    "nodel = {}\n",
    "bs_temp = best_split(templ,labell)\n",
    "if (bs_temp[0]/bs_temp[1] < min_mse_rel):\n",
    "    nodel['leaf'] = func_leaf(bs_temp)\n",
    "    tree['less'] = nodel\n",
    "else:\n",
    "    nodel['node'] = bs_temp\n",
    "    nodel['greater'] = {}\n",
    "    nodel['less'] = {}\n",
    "    tree['less'] = nodel\n"
   ]
  },
  {
   "cell_type": "code",
   "execution_count": 245,
   "metadata": {},
   "outputs": [
    {
     "data": {
      "text/plain": [
       "{'greater': {'leaf': (72.70149253731343, 0.8232647248879077)},\n",
       " 'less': {'leaf': (51.12834645669291, 0.7880437431075704)},\n",
       " 'node': (14.94189129669283, 62.888888888888886, 4, 134, 127)}"
      ]
     },
     "execution_count": 245,
     "metadata": {},
     "output_type": "execute_result"
    }
   ],
   "source": [
    "tree"
   ]
  },
  {
   "cell_type": "code",
   "execution_count": 254,
   "metadata": {},
   "outputs": [],
   "source": [
    "\n",
    "def plant_the_tree(train_features,train_labels):\n",
    "    tree = {}\n",
    "    tree['node'] = best_split(train_features,train_labels)\n",
    "    return tree\n",
    "\n",
    "def grow_tree(tree,train_features,train_labels,min_mse=0,min_min_samples_leaf=1):\n",
    "\n",
    "    mean_feat = tree['node'][1]\n",
    "    n_feat = tree['node'][2]\n",
    "\n",
    "    tempg = train_features[train_features[:,n_feat]>mean_feat,:]\n",
    "    labelg = train_labels[train_features[:,n_feat]>mean_feat]\n",
    "    \n",
    "    tree['greater'] = {}\n",
    "    bs_temp = best_split(tempg,labelg)\n",
    "    mean_feat_loc = bs_temp[1]\n",
    "    n_feat_loc = bs_temp[2]\n",
    "    bool1 = bs_temp[3] <= min_min_samples_leaf\n",
    "    bool2 = bs_temp[4] <= min_min_samples_leaf\n",
    "    bool3 = bs_temp[0] <= min_mse\n",
    "    if (bool1 or bool2 or bool3):\n",
    "        tree['greater']['leaf']  = bs_temp\n",
    "        target = labelg[tempg[:,n_feat_loc]>=mean_feat_loc].mean()\n",
    "        prec = 1-labelg[tempg[:,n_feat_loc]>=mean_feat_loc].std()/target        \n",
    "        tree['greater']['greater'] = [target, prec]\n",
    "        target = labelg[tempg[:,n_feat_loc]<=mean_feat_loc].mean()\n",
    "        prec = 1-labelg[tempg[:,n_feat_loc]<=mean_feat_loc].std()/target        \n",
    "        tree['greater']['less'] = [target, prec]\n",
    "    else:\n",
    "        print(bs_temp)\n",
    "        tree['greater']['node'] = bs_temp\n",
    "        grow_tree(tree['greater'],tempg,labelg)\n",
    "\n",
    "    tempg = train_features[train_features[:,n_feat]<=mean_feat,:]\n",
    "    labelg = train_labels[train_features[:,n_feat]<=mean_feat]\n",
    "\n",
    "    tree['less'] = {}\n",
    "    bs_temp = best_split(tempg,labelg)\n",
    "    mean_feat_loc = bs_temp[1]\n",
    "    n_feat_loc = bs_temp[2]\n",
    "    bool1 = bs_temp[3] <= min_min_samples_leaf\n",
    "    bool2 = bs_temp[4] <= min_min_samples_leaf\n",
    "    bool3 = bs_temp[0] <= min_mse\n",
    "    if (bool1 or bool2 or bool3):\n",
    "        tree['less']['leaf']  = bs_temp\n",
    "        target = labelg[tempg[:,n_feat_loc]>=mean_feat_loc].mean()\n",
    "        prec = 1-labelg[tempg[:,n_feat_loc]>=mean_feat_loc].std()/target        \n",
    "        tree['less']['greater'] = [target, prec]\n",
    "        target = labelg[tempg[:,n_feat_loc]<=mean_feat_loc].mean()\n",
    "        prec = 1-labelg[tempg[:,n_feat_loc]<=mean_feat_loc].std()/target        \n",
    "        tree['less']['less'] = [target, prec]\n",
    "    else:\n",
    "        tree['less']['node'] = bs_temp\n",
    "        grow_tree(tree['less'],tempg,labelg)\n",
    "        \n",
    "    return tree"
   ]
  },
  {
   "cell_type": "code",
   "execution_count": 255,
   "metadata": {},
   "outputs": [],
   "source": [
    "tree = plant_the_tree(train_features,train_labels)"
   ]
  },
  {
   "cell_type": "code",
   "execution_count": 256,
   "metadata": {},
   "outputs": [
    {
     "name": "stdout",
     "output_type": "stream",
     "text": [
      "(12.848918284641812, 72.70149253731343, 4, 61, 73)\n",
      "(10.88152505847371, 0.18032786885245902, 15, 11, 50)\n",
      "(5.13352789392958, 78.9090909090909, 4, 4, 7)\n",
      "(9.0863900365551, 72.4, 5, 5, 4)\n",
      "(9.617650104885035, 11.375, 2, 4, 4)\n",
      "(6.0, 73.75, 9, 2, 2)\n",
      "(8.716923809014466, 71.53846153846153, 9, 5, 8)\n",
      "(8.759252917297887, 71.0, 7, 2, 4)\n",
      "(8.015135510675146, 0.15151515151515152, 10, 5, 28)\n",
      "(1.9714045207910318, 69.68, 5, 3, 2)\n",
      "(1.8564659966250536, 64.85714285714286, 3, 5, 2)\n",
      "(6.83976357667035, 0.125, 16, 6, 42)\n",
      "(1.7593056225097894, 56.666666666666664, 3, 3, 3)\n",
      "(2.414213562373095, 57.4, 4, 3, 2)\n",
      "(4.502790697118382, 0.3, 11, 6, 14)\n",
      "(1.247219128924647, 56.666666666666664, 6, 3, 3)\n",
      "(3.0436023260597347, 6.5, 1, 3, 5)\n",
      "(5.6853339852216696, 0.1282051282051282, 13, 5, 34)\n",
      "(7.587969505439089, 13.615384615384615, 2, 7, 6)\n",
      "(5.768525043108829, 0.3333333333333333, 11, 3, 6)\n"
     ]
    }
   ],
   "source": [
    "tree = grow_tree(tree,train_features,train_labels)"
   ]
  },
  {
   "cell_type": "code",
   "execution_count": 257,
   "metadata": {
    "scrolled": false
   },
   "outputs": [
    {
     "name": "stdout",
     "output_type": "stream",
     "text": [
      "{'node': (14.94189129669283, 62.888888888888886, 4, 134, 127), 'greater': {'node': (12.848918284641812, 72.70149253731343, 4, 61, 73), 'greater': {'node': (10.88152505847371, 0.18032786885245902, 15, 11, 50), 'greater': {'node': (5.13352789392958, 78.9090909090909, 4, 4, 7), 'greater': {'leaf': (0.9428090415820634, 17.75, 2, 3, 1), 'greater': [79.66666666666667, 0.9881655768839072], 'less': [74.0, 1.0]}, 'less': {'node': (3.6199596081647467, 16.285714285714285, 2, 3, 4), 'greater': {'leaf': (0.5, 7.666666666666667, 1, 2, 1), 'greater': [69.5, 0.9928057553956835], 'less': [73.0, 1.0]}, 'less': {'node': (1.5, 74.25, 6, 2, 2), 'greater': {'leaf': (0.0, 5.5, 2, 1, 1), 'greater': [72.0, 1.0], 'less': [73.0, 1.0]}, 'less': {'leaf': (0.0, 8.0, 1, 1, 1), 'greater': [75.0, 1.0], 'less': [77.0, 1.0]}}}}, 'less': {'node': (12.915359341571051, 0.18, 14, 9, 41), 'greater': {'node': (9.0863900365551, 72.4, 5, 5, 4), 'greater': {'leaf': (4.5, 76.6, 4, 1, 4), 'greater': [85.0, 1.0], 'less': [74.5, 0.9395973154362416]}, 'less': {'leaf': (3.7416573867739413, 6.5, 1, 1, 3), 'greater': [71.0, 1.0], 'less': [72.0, 0.9480325362948063]}}, 'less': {'node': (13.743791299624878, 0.1951219512195122, 10, 8, 33), 'greater': {'node': (9.617650104885035, 11.375, 2, 4, 4), 'greater': {'node': (6.0, 73.75, 9, 2, 2), 'greater': {'leaf': (0.0, 7.5, 1, 1, 1), 'greater': [87.0, 1.0], 'less': [88.0, 1.0]}, 'less': {'leaf': (0.0, 6.0, 1, 1, 1), 'greater': [71.0, 1.0], 'less': [82.0, 1.0]}}, 'less': {'node': (4.0, 5.75, 1, 2, 2), 'greater': {'leaf': (0.0, 7.5, 1, 1, 1), 'greater': [79.0, 1.0], 'less': [76.0, 1.0]}, 'less': {'leaf': (0.0, 4.5, 2, 1, 1), 'greater': [76.0, 1.0], 'less': [71.0, 1.0]}}}, 'less': {'node': (14.289473413018264, 0.18181818181818182, 13, 6, 27), 'greater': {'leaf': (4.454211490264017, 75.33333333333333, 7, 5, 1), 'greater': [76.4, 0.9416988024834553], 'less': [63.0, 1.0]}, 'less': {'node': (14.695862746961772, 67.33333333333333, 6, 13, 14), 'greater': {'node': (8.716923809014466, 71.53846153846153, 9, 5, 8), 'greater': {'leaf': (5.84700778176325, 0.2, 11, 1, 4), 'greater': [85.0, 1.0], 'less': [81.25, 0.9280368273013754]}, 'less': {'leaf': (3.3685217493004562, 7.125, 1, 1, 7), 'greater': [72.0, 1.0], 'less': [74.71428571428571, 0.9549146228583113]}}, 'less': {'node': (10.552864798211331, 0.21428571428571427, 12, 3, 11), 'greater': {'leaf': (0.5, 6.0, 1, 1, 2), 'greater': [68.0, 1.0], 'less': [65.5, 0.9923664122137404]}, 'less': {'node': (17.286679873867065, 66.0909090909091, 9, 5, 6), 'greater': {'node': (8.759252917297887, 71.0, 7, 2, 4), 'greater': {'leaf': (0.0, 9.0, 1, 1, 1), 'greater': [79.0, 1.0], 'less': [79.0, 1.0]}, 'less': {'leaf': (7.760297817881877, 68.725, 5, 1, 3), 'greater': [75.0, 1.0], 'less': [76.66666666666667, 0.8987787241145843]}}, 'less': {'leaf': (9.682974749528164, 83.83333333333333, 4, 1, 5), 'greater': [59.0, 1.0], 'less': [77.2, 0.8745728659387544]}}}}}}}}, 'less': {'node': (10.551950301791596, 67.43835616438356, 4, 33, 40), 'greater': {'node': (8.015135510675146, 0.15151515151515152, 10, 5, 28), 'greater': {'node': (1.9714045207910318, 69.68, 5, 3, 2), 'greater': {'leaf': (0.0, 11.0, 2, 1, 2), 'greater': [75.0, 1.0], 'less': [74.0, 1.0]}, 'less': {'leaf': (0.0, 5.5, 1, 1, 1), 'greater': [80.0, 1.0], 'less': [77.0, 1.0]}}, 'less': {'node': (8.891524350420495, 0.07142857142857142, 14, 2, 26), 'greater': {'leaf': (0.0, 6.0, 1, 1, 1), 'greater': [67.0, 1.0], 'less': [73.0, 1.0]}, 'less': {'node': (10.354016709986087, 69.50384615384615, 5, 16, 10), 'greater': {'leaf': (3.7629775444453553, 0.0625, 15, 1, 15), 'greater': [68.0, 1.0], 'less': [73.2, 0.9485932029447356]}, 'less': {'leaf': (6.733003292241386, 0.1, 12, 1, 9), 'greater': [63.0, 1.0], 'less': [67.0, 0.8995074135486361]}}}}, 'less': {'node': (6.567867270703392, 0.175, 10, 7, 33), 'greater': {'node': (1.8564659966250536, 64.85714285714286, 3, 5, 2), 'greater': {'leaf': (1.299038105676658, 61.4, 6, 4, 1), 'greater': [64.75, 0.9799376354335652], 'less': [63.0, 1.0]}, 'less': {'leaf': (0.0, 8.0, 1, 1, 1), 'greater': [65.0, 1.0], 'less': [66.0, 1.0]}}, 'less': {'node': (9.151443119435632, 63.878787878787875, 9, 16, 17), 'greater': {'leaf': (3.3466401061363023, 0.0625, 11, 1, 15), 'greater': [71.0, 1.0], 'less': [67.0, 0.9500501476696074]}, 'less': {'leaf': (5.543859215384171, 0.058823529411764705, 15, 1, 16), 'greater': [71.0, 1.0], 'less': [62.125, 0.9107628295310395]}}}}}, 'less': {'node': (10.836972936059942, 51.12834645669291, 5, 48, 79), 'greater': {'node': (6.83976357667035, 0.125, 16, 6, 42), 'greater': {'node': (1.7593056225097894, 56.666666666666664, 3, 3, 3), 'greater': {'leaf': (0.5, 8.333333333333334, 1, 2, 1), 'greater': [57.5, 0.991304347826087], 'less': [59.0, 1.0]}, 'less': {'leaf': (0.0, 11.333333333333334, 2, 1, 2), 'greater': [53.0, 1.0], 'less': [55.0, 1.0]}}, 'less': {'node': (7.764619575114006, 0.11904761904761904, 10, 5, 37), 'greater': {'node': (2.414213562373095, 57.4, 4, 3, 2), 'greater': {'leaf': (0.0, 15.666666666666666, 2, 1, 2), 'greater': [63.0, 1.0], 'less': [60.0, 1.0]}, 'less': {'leaf': (0.0, 18.0, 2, 1, 1), 'greater': [57.0, 1.0], 'less': [55.0, 1.0]}}, 'less': {'node': (8.477065540130564, 56.945945945945944, 8, 20, 17), 'greater': {'node': (4.502790697118382, 0.3, 11, 6, 14), 'greater': {'node': (1.247219128924647, 56.666666666666664, 6, 3, 3), 'greater': {'leaf': (0.0, 8.333333333333334, 1, 2, 1), 'greater': [60.0, 1.0], 'less': [60.0, 1.0]}, 'less': {'leaf': (0.5, 6.0, 1, 1, 2), 'greater': [61.0, 1.0], 'less': [58.5, 0.9914529914529915]}}, 'less': {'node': (4.651483716701108, 0.14285714285714285, 13, 2, 12), 'greater': {'leaf': (0.0, 19.5, 2, 1, 1), 'greater': [62.0, 1.0], 'less': [60.0, 1.0]}, 'less': {'node': (4.650810025124638, 59.75, 4, 8, 4), 'greater': {'node': (3.0436023260597347, 6.5, 1, 3, 5), 'greater': {'leaf': (0.5, 60.666666666666664, 3, 1, 2), 'greater': [63.0, 1.0], 'less': [61.5, 0.991869918699187]}, 'less': {'leaf': (1.7320508075688772, 0.2, 15, 1, 4), 'greater': [71.0, 1.0], 'less': [67.0, 0.9741484954094197]}}, 'less': {'node': (0.5, 7.0, 1, 2, 2), 'greater': {'leaf': (0.0, 10.0, 1, 2, 2), 'greater': [62.0, 1.0], 'less': [62.0, 1.0]}, 'less': {'leaf': (0.0, 13.0, 2, 1, 1), 'greater': [59.0, 1.0], 'less': [60.0, 1.0]}}}}}, 'less': {'node': (7.486477706852696, 55.94117647058823, 4, 9, 8), 'greater': {'leaf': (4.527692569068709, 0.1111111111111111, 12, 1, 8), 'greater': [64.0, 1.0], 'less': [59.5, 0.9239043265702738]}, 'less': {'leaf': (2.9137254363387344, 4.0, 1, 1, 7), 'greater': [57.0, 1.0], 'less': [53.285714285714285, 0.9453188255914983]}}}}}, 'less': {'node': (8.7745439981952, 47.741772151898736, 5, 39, 40), 'greater': {'node': (5.6853339852216696, 0.1282051282051282, 13, 5, 34), 'greater': {'leaf': (2.48746859276655, 19.8, 2, 4, 1), 'greater': [51.25, 0.9514640274582137], 'less': [51.0, 1.0]}, 'less': {'node': (5.4599680071136945, 4.4411764705882355, 1, 10, 24), 'greater': {'leaf': (1.227262335243029, 0.1, 16, 1, 9), 'greater': [50.0, 1.0], 'less': [53.22222222222222, 0.9769407911958512]}, 'less': {'node': (5.229037216613575, 0.125, 16, 3, 21), 'greater': {'leaf': (0.5, 49.53333333333333, 5, 1, 2), 'greater': [59.0, 1.0], 'less': [56.5, 0.9911504424778761]}, 'less': {'node': (6.055479820126643, 0.14285714285714285, 12, 3, 18), 'greater': {'leaf': (0.5, 49.36666666666667, 5, 1, 2), 'greater': [53.0, 1.0], 'less': [48.5, 0.9896907216494846]}, 'less': {'node': (6.445091209522146, 1.7222222222222223, 1, 13, 5), 'greater': {'node': (7.587969505439089, 13.615384615384615, 2, 7, 6), 'greater': {'leaf': (3.685557397915997, 0.14285714285714285, 14, 1, 6), 'greater': [61.0, 1.0], 'less': [55.5, 0.93359356039791]}, 'less': {'node': (3.5860201081971503, 5.166666666666667, 2, 2, 4), 'greater': {'leaf': (0.0, 9.5, 2, 1, 1), 'greater': [55.0, 1.0], 'less': [57.0, 1.0]}, 'less': {'leaf': (1.632993161855452, 0.25, 11, 1, 3), 'greater': [46.0, 1.0], 'less': [51.0, 0.9679805262381284]}}}, 'less': {'node': (1.247219128924647, 47.6, 8, 3, 2), 'greater': {'leaf': (0.5, 48.333333333333336, 8, 1, 2), 'greater': [54.0, 1.0], 'less': [56.5, 0.9911504424778761]}, 'less': {'leaf': (0.0, 1.0, 1, 2, 2), 'greater': [52.0, 1.0], 'less': [52.0, 1.0]}}}}}}}, 'less': {'node': (7.94767175639949, 0.125, 13, 5, 35), 'greater': {'leaf': (2.5860201081971503, 9.8, 1, 4, 1), 'greater': [42.75, 0.9395083015626398], 'less': [41.0, 1.0]}, 'less': {'node': (8.30468822335063, 45.91428571428571, 4, 18, 17), 'greater': {'leaf': (4.696313801461664, 0.05555555555555555, 15, 1, 17), 'greater': [48.0, 1.0], 'less': [49.05882352941177, 0.9042717810253618]}, 'less': {'node': (4.372409528388695, 0.11764705882352941, 16, 2, 15), 'greater': {'leaf': (0.0, 10.5, 2, 1, 1), 'greater': [39.0, 1.0], 'less': [40.0, 1.0]}, 'less': {'node': (5.048522266751005, 0.13333333333333333, 14, 2, 13), 'greater': {'leaf': (0.0, 11.5, 2, 1, 1), 'greater': [39.0, 1.0], 'less': [41.0, 1.0]}, 'less': {'node': (6.005606001541908, 8.615384615384615, 1, 9, 4), 'greater': {'node': (5.768525043108829, 0.3333333333333333, 11, 3, 6), 'greater': {'leaf': (0.5, 40.0, 3, 2, 1), 'greater': [42.5, 0.9882352941176471], 'less': [46.0, 1.0]}, 'less': {'node': (5.448228769120393, 20.0, 2, 3, 3), 'greater': {'leaf': (0.5, 24.666666666666668, 2, 1, 2), 'greater': [47.0, 1.0], 'less': [40.5, 0.9876543209876543]}, 'less': {'leaf': (0.0, 15.333333333333334, 2, 2, 1), 'greater': [35.0, 1.0], 'less': [40.0, 1.0]}}}, 'less': {'leaf': (0.4714045207910317, 45.5, 3, 1, 3), 'greater': [49.0, 1.0], 'less': [44.333333333333336, 0.9893668153205031]}}}}}}}}}\n"
     ]
    }
   ],
   "source": [
    "print(tree)"
   ]
  },
  {
   "cell_type": "code",
   "execution_count": 251,
   "metadata": {},
   "outputs": [],
   "source": [
    "a= np.array((0.2, 0.3))"
   ]
  },
  {
   "cell_type": "code",
   "execution_count": 157,
   "metadata": {},
   "outputs": [
    {
     "data": {
      "text/plain": [
       "0.3"
      ]
     },
     "execution_count": 157,
     "metadata": {},
     "output_type": "execute_result"
    }
   ],
   "source": [
    "a[1]"
   ]
  },
  {
   "cell_type": "code",
   "execution_count": 165,
   "metadata": {},
   "outputs": [
    {
     "data": {
      "text/plain": [
       "0.2"
      ]
     },
     "execution_count": 165,
     "metadata": {},
     "output_type": "execute_result"
    }
   ],
   "source": [
    "[0.2, 0.3][0]"
   ]
  },
  {
   "cell_type": "code",
   "execution_count": 258,
   "metadata": {},
   "outputs": [],
   "source": []
  },
  {
   "cell_type": "code",
   "execution_count": 267,
   "metadata": {},
   "outputs": [],
   "source": [
    "pre = RenderTree(tree)"
   ]
  },
  {
   "cell_type": "code",
   "execution_count": 268,
   "metadata": {},
   "outputs": [
    {
     "data": {
      "text/plain": [
       "RenderTree({'node': (14.94189129669283, 62.888888888888886, 4, 134, 127), 'greater': {'node': (12.848918284641812, 72.70149253731343, 4, 61, 73), 'greater': {'node': (10.88152505847371, 0.18032786885245902, 15, 11, 50), 'greater': {'node': (5.13352789392958, 78.9090909090909, 4, 4, 7), 'greater': {'leaf': (0.9428090415820634, 17.75, 2, 3, 1), 'greater': [79.66666666666667, 0.9881655768839072], 'less': [74.0, 1.0]}, 'less': {'node': (3.6199596081647467, 16.285714285714285, 2, 3, 4), 'greater': {'leaf': (0.5, 7.666666666666667, 1, 2, 1), 'greater': [69.5, 0.9928057553956835], 'less': [73.0, 1.0]}, 'less': {'node': (1.5, 74.25, 6, 2, 2), 'greater': {'leaf': (0.0, 5.5, 2, 1, 1), 'greater': [72.0, 1.0], 'less': [73.0, 1.0]}, 'less': {'leaf': (0.0, 8.0, 1, 1, 1), 'greater': [75.0, 1.0], 'less': [77.0, 1.0]}}}}, 'less': {'node': (12.915359341571051, 0.18, 14, 9, 41), 'greater': {'node': (9.0863900365551, 72.4, 5, 5, 4), 'greater': {'leaf': (4.5, 76.6, 4, 1, 4), 'greater': [85.0, 1.0], 'less': [74.5, 0.9395973154362416]}, 'less': {'leaf': (3.7416573867739413, 6.5, 1, 1, 3), 'greater': [71.0, 1.0], 'less': [72.0, 0.9480325362948063]}}, 'less': {'node': (13.743791299624878, 0.1951219512195122, 10, 8, 33), 'greater': {'node': (9.617650104885035, 11.375, 2, 4, 4), 'greater': {'node': (6.0, 73.75, 9, 2, 2), 'greater': {'leaf': (0.0, 7.5, 1, 1, 1), 'greater': [87.0, 1.0], 'less': [88.0, 1.0]}, 'less': {'leaf': (0.0, 6.0, 1, 1, 1), 'greater': [71.0, 1.0], 'less': [82.0, 1.0]}}, 'less': {'node': (4.0, 5.75, 1, 2, 2), 'greater': {'leaf': (0.0, 7.5, 1, 1, 1), 'greater': [79.0, 1.0], 'less': [76.0, 1.0]}, 'less': {'leaf': (0.0, 4.5, 2, 1, 1), 'greater': [76.0, 1.0], 'less': [71.0, 1.0]}}}, 'less': {'node': (14.289473413018264, 0.18181818181818182, 13, 6, 27), 'greater': {'leaf': (4.454211490264017, 75.33333333333333, 7, 5, 1), 'greater': [76.4, 0.9416988024834553], 'less': [63.0, 1.0]}, 'less': {'node': (14.695862746961772, 67.33333333333333, 6, 13, 14), 'greater': {'node': (8.716923809014466, 71.53846153846153, 9, 5, 8), 'greater': {'leaf': (5.84700778176325, 0.2, 11, 1, 4), 'greater': [85.0, 1.0], 'less': [81.25, 0.9280368273013754]}, 'less': {'leaf': (3.3685217493004562, 7.125, 1, 1, 7), 'greater': [72.0, 1.0], 'less': [74.71428571428571, 0.9549146228583113]}}, 'less': {'node': (10.552864798211331, 0.21428571428571427, 12, 3, 11), 'greater': {'leaf': (0.5, 6.0, 1, 1, 2), 'greater': [68.0, 1.0], 'less': [65.5, 0.9923664122137404]}, 'less': {'node': (17.286679873867065, 66.0909090909091, 9, 5, 6), 'greater': {'node': (8.759252917297887, 71.0, 7, 2, 4), 'greater': {'leaf': (0.0, 9.0, 1, 1, 1), 'greater': [79.0, 1.0], 'less': [79.0, 1.0]}, 'less': {'leaf': (7.760297817881877, 68.725, 5, 1, 3), 'greater': [75.0, 1.0], 'less': [76.66666666666667, 0.8987787241145843]}}, 'less': {'leaf': (9.682974749528164, 83.83333333333333, 4, 1, 5), 'greater': [59.0, 1.0], 'less': [77.2, 0.8745728659387544]}}}}}}}}, 'less': {'node': (10.551950301791596, 67.43835616438356, 4, 33, 40), 'greater': {'node': (8.015135510675146, 0.15151515151515152, 10, 5, 28), 'greater': {'node': (1.9714045207910318, 69.68, 5, 3, 2), 'greater': {'leaf': (0.0, 11.0, 2, 1, 2), 'greater': [75.0, 1.0], 'less': [74.0, 1.0]}, 'less': {'leaf': (0.0, 5.5, 1, 1, 1), 'greater': [80.0, 1.0], 'less': [77.0, 1.0]}}, 'less': {'node': (8.891524350420495, 0.07142857142857142, 14, 2, 26), 'greater': {'leaf': (0.0, 6.0, 1, 1, 1), 'greater': [67.0, 1.0], 'less': [73.0, 1.0]}, 'less': {'node': (10.354016709986087, 69.50384615384615, 5, 16, 10), 'greater': {'leaf': (3.7629775444453553, 0.0625, 15, 1, 15), 'greater': [68.0, 1.0], 'less': [73.2, 0.9485932029447356]}, 'less': {'leaf': (6.733003292241386, 0.1, 12, 1, 9), 'greater': [63.0, 1.0], 'less': [67.0, 0.8995074135486361]}}}}, 'less': {'node': (6.567867270703392, 0.175, 10, 7, 33), 'greater': {'node': (1.8564659966250536, 64.85714285714286, 3, 5, 2), 'greater': {'leaf': (1.299038105676658, 61.4, 6, 4, 1), 'greater': [64.75, 0.9799376354335652], 'less': [63.0, 1.0]}, 'less': {'leaf': (0.0, 8.0, 1, 1, 1), 'greater': [65.0, 1.0], 'less': [66.0, 1.0]}}, 'less': {'node': (9.151443119435632, 63.878787878787875, 9, 16, 17), 'greater': {'leaf': (3.3466401061363023, 0.0625, 11, 1, 15), 'greater': [71.0, 1.0], 'less': [67.0, 0.9500501476696074]}, 'less': {'leaf': (5.543859215384171, 0.058823529411764705, 15, 1, 16), 'greater': [71.0, 1.0], 'less': [62.125, 0.9107628295310395]}}}}}, 'less': {'node': (10.836972936059942, 51.12834645669291, 5, 48, 79), 'greater': {'node': (6.83976357667035, 0.125, 16, 6, 42), 'greater': {'node': (1.7593056225097894, 56.666666666666664, 3, 3, 3), 'greater': {'leaf': (0.5, 8.333333333333334, 1, 2, 1), 'greater': [57.5, 0.991304347826087], 'less': [59.0, 1.0]}, 'less': {'leaf': (0.0, 11.333333333333334, 2, 1, 2), 'greater': [53.0, 1.0], 'less': [55.0, 1.0]}}, 'less': {'node': (7.764619575114006, 0.11904761904761904, 10, 5, 37), 'greater': {'node': (2.414213562373095, 57.4, 4, 3, 2), 'greater': {'leaf': (0.0, 15.666666666666666, 2, 1, 2), 'greater': [63.0, 1.0], 'less': [60.0, 1.0]}, 'less': {'leaf': (0.0, 18.0, 2, 1, 1), 'greater': [57.0, 1.0], 'less': [55.0, 1.0]}}, 'less': {'node': (8.477065540130564, 56.945945945945944, 8, 20, 17), 'greater': {'node': (4.502790697118382, 0.3, 11, 6, 14), 'greater': {'node': (1.247219128924647, 56.666666666666664, 6, 3, 3), 'greater': {'leaf': (0.0, 8.333333333333334, 1, 2, 1), 'greater': [60.0, 1.0], 'less': [60.0, 1.0]}, 'less': {'leaf': (0.5, 6.0, 1, 1, 2), 'greater': [61.0, 1.0], 'less': [58.5, 0.9914529914529915]}}, 'less': {'node': (4.651483716701108, 0.14285714285714285, 13, 2, 12), 'greater': {'leaf': (0.0, 19.5, 2, 1, 1), 'greater': [62.0, 1.0], 'less': [60.0, 1.0]}, 'less': {'node': (4.650810025124638, 59.75, 4, 8, 4), 'greater': {'node': (3.0436023260597347, 6.5, 1, 3, 5), 'greater': {'leaf': (0.5, 60.666666666666664, 3, 1, 2), 'greater': [63.0, 1.0], 'less': [61.5, 0.991869918699187]}, 'less': {'leaf': (1.7320508075688772, 0.2, 15, 1, 4), 'greater': [71.0, 1.0], 'less': [67.0, 0.9741484954094197]}}, 'less': {'node': (0.5, 7.0, 1, 2, 2), 'greater': {'leaf': (0.0, 10.0, 1, 2, 2), 'greater': [62.0, 1.0], 'less': [62.0, 1.0]}, 'less': {'leaf': (0.0, 13.0, 2, 1, 1), 'greater': [59.0, 1.0], 'less': [60.0, 1.0]}}}}}, 'less': {'node': (7.486477706852696, 55.94117647058823, 4, 9, 8), 'greater': {'leaf': (4.527692569068709, 0.1111111111111111, 12, 1, 8), 'greater': [64.0, 1.0], 'less': [59.5, 0.9239043265702738]}, 'less': {'leaf': (2.9137254363387344, 4.0, 1, 1, 7), 'greater': [57.0, 1.0], 'less': [53.285714285714285, 0.9453188255914983]}}}}}, 'less': {'node': (8.7745439981952, 47.741772151898736, 5, 39, 40), 'greater': {'node': (5.6853339852216696, 0.1282051282051282, 13, 5, 34), 'greater': {'leaf': (2.48746859276655, 19.8, 2, 4, 1), 'greater': [51.25, 0.9514640274582137], 'less': [51.0, 1.0]}, 'less': {'node': (5.4599680071136945, 4.4411764705882355, 1, 10, 24), 'greater': {'leaf': (1.227262335243029, 0.1, 16, 1, 9), 'greater': [50.0, 1.0], 'less': [53.22222222222222, 0.9769407911958512]}, 'less': {'node': (5.229037216613575, 0.125, 16, 3, 21), 'greater': {'leaf': (0.5, 49.53333333333333, 5, 1, 2), 'greater': [59.0, 1.0], 'less': [56.5, 0.9911504424778761]}, 'less': {'node': (6.055479820126643, 0.14285714285714285, 12, 3, 18), 'greater': {'leaf': (0.5, 49.36666666666667, 5, 1, 2), 'greater': [53.0, 1.0], 'less': [48.5, 0.9896907216494846]}, 'less': {'node': (6.445091209522146, 1.7222222222222223, 1, 13, 5), 'greater': {'node': (7.587969505439089, 13.615384615384615, 2, 7, 6), 'greater': {'leaf': (3.685557397915997, 0.14285714285714285, 14, 1, 6), 'greater': [61.0, 1.0], 'less': [55.5, 0.93359356039791]}, 'less': {'node': (3.5860201081971503, 5.166666666666667, 2, 2, 4), 'greater': {'leaf': (0.0, 9.5, 2, 1, 1), 'greater': [55.0, 1.0], 'less': [57.0, 1.0]}, 'less': {'leaf': (1.632993161855452, 0.25, 11, 1, 3), 'greater': [46.0, 1.0], 'less': [51.0, 0.9679805262381284]}}}, 'less': {'node': (1.247219128924647, 47.6, 8, 3, 2), 'greater': {'leaf': (0.5, 48.333333333333336, 8, 1, 2), 'greater': [54.0, 1.0], 'less': [56.5, 0.9911504424778761]}, 'less': {'leaf': (0.0, 1.0, 1, 2, 2), 'greater': [52.0, 1.0], 'less': [52.0, 1.0]}}}}}}}, 'less': {'node': (7.94767175639949, 0.125, 13, 5, 35), 'greater': {'leaf': (2.5860201081971503, 9.8, 1, 4, 1), 'greater': [42.75, 0.9395083015626398], 'less': [41.0, 1.0]}, 'less': {'node': (8.30468822335063, 45.91428571428571, 4, 18, 17), 'greater': {'leaf': (4.696313801461664, 0.05555555555555555, 15, 1, 17), 'greater': [48.0, 1.0], 'less': [49.05882352941177, 0.9042717810253618]}, 'less': {'node': (4.372409528388695, 0.11764705882352941, 16, 2, 15), 'greater': {'leaf': (0.0, 10.5, 2, 1, 1), 'greater': [39.0, 1.0], 'less': [40.0, 1.0]}, 'less': {'node': (5.048522266751005, 0.13333333333333333, 14, 2, 13), 'greater': {'leaf': (0.0, 11.5, 2, 1, 1), 'greater': [39.0, 1.0], 'less': [41.0, 1.0]}, 'less': {'node': (6.005606001541908, 8.615384615384615, 1, 9, 4), 'greater': {'node': (5.768525043108829, 0.3333333333333333, 11, 3, 6), 'greater': {'leaf': (0.5, 40.0, 3, 2, 1), 'greater': [42.5, 0.9882352941176471], 'less': [46.0, 1.0]}, 'less': {'node': (5.448228769120393, 20.0, 2, 3, 3), 'greater': {'leaf': (0.5, 24.666666666666668, 2, 1, 2), 'greater': [47.0, 1.0], 'less': [40.5, 0.9876543209876543]}, 'less': {'leaf': (0.0, 15.333333333333334, 2, 2, 1), 'greater': [35.0, 1.0], 'less': [40.0, 1.0]}}}, 'less': {'leaf': (0.4714045207910317, 45.5, 3, 1, 3), 'greater': [49.0, 1.0], 'less': [44.333333333333336, 0.9893668153205031]}}}}}}}}}, style=ContStyle(), childiter=<class 'list'>)"
      ]
     },
     "execution_count": 268,
     "metadata": {},
     "output_type": "execute_result"
    }
   ],
   "source": [
    "pre"
   ]
  },
  {
   "cell_type": "code",
   "execution_count": null,
   "metadata": {},
   "outputs": [],
   "source": []
  }
 ],
 "metadata": {
  "kernelspec": {
   "display_name": "Python 3",
   "language": "python",
   "name": "python3"
  },
  "language_info": {
   "codemirror_mode": {
    "name": "ipython",
    "version": 3
   },
   "file_extension": ".py",
   "mimetype": "text/x-python",
   "name": "python",
   "nbconvert_exporter": "python",
   "pygments_lexer": "ipython3",
   "version": "3.6.5"
  }
 },
 "nbformat": 4,
 "nbformat_minor": 2
}
