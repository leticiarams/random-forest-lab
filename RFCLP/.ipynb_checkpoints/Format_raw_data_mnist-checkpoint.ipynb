{
 "cells": [
  {
   "cell_type": "markdown",
   "metadata": {},
   "source": [
    "### Only for format  the raw data."
   ]
  },
  {
   "cell_type": "code",
   "execution_count": 1,
   "metadata": {
    "scrolled": true
   },
   "outputs": [
    {
     "name": "stderr",
     "output_type": "stream",
     "text": [
      "/usr/lib/python3.6/importlib/_bootstrap.py:219: RuntimeWarning: numpy.dtype size changed, may indicate binary incompatibility. Expected 96, got 88\n",
      "  return f(*args, **kwds)\n",
      "/usr/lib/python3.6/importlib/_bootstrap.py:219: RuntimeWarning: numpy.dtype size changed, may indicate binary incompatibility. Expected 96, got 88\n",
      "  return f(*args, **kwds)\n"
     ]
    }
   ],
   "source": [
    "import pandas as pd"
   ]
  },
  {
   "cell_type": "markdown",
   "metadata": {},
   "source": [
    "#### Load and format dataset Titanic survived dataset. "
   ]
  },
  {
   "cell_type": "code",
   "execution_count": 2,
   "metadata": {
    "scrolled": true
   },
   "outputs": [],
   "source": [
    "# laod original trainning dataset.\n",
    "train_data = pd.read_csv(\n",
    "    \"train.csv.mnist\",\n",
    "    sep=r'\\s*,\\s*',\n",
    "    quotechar=\"'\",\n",
    "    engine='python',\n",
    "    index_col=False,\n",
    "    na_values=\"?\")"
   ]
  },
  {
   "cell_type": "code",
   "execution_count": 3,
   "metadata": {},
   "outputs": [
    {
     "name": "stdout",
     "output_type": "stream",
     "text": [
      "1    4684\n",
      "7    4401\n",
      "3    4351\n",
      "9    4188\n",
      "2    4177\n",
      "6    4137\n",
      "0    4132\n",
      "4    4072\n",
      "8    4063\n",
      "5    3795\n",
      "Name: label, dtype: int64\n"
     ]
    }
   ],
   "source": [
    "# Counting...\n",
    "Target = 'label'\n",
    "Labels = train_data[Target].unique()\n",
    "counts = train_data[Target].value_counts()\n",
    "print(counts)\n"
   ]
  },
  {
   "cell_type": "code",
   "execution_count": 4,
   "metadata": {},
   "outputs": [],
   "source": [
    "# Fusion the datasets using only selected features.\n",
    "final = train_data.dropna()"
   ]
  },
  {
   "cell_type": "code",
   "execution_count": 5,
   "metadata": {},
   "outputs": [],
   "source": [
    "cols = final.columns.tolist()\n",
    "temp = cols[1:]\n",
    "temp.append(cols[0])\n",
    "final = final[temp]"
   ]
  },
  {
   "cell_type": "code",
   "execution_count": 6,
   "metadata": {},
   "outputs": [],
   "source": [
    "# Shuffling the data\n",
    "final = final.sample(frac=1)\n",
    "# Drop missing data\n",
    "final = final.dropna()\n",
    "# Convert to categorical features\n",
    "final = final.astype('category')"
   ]
  },
  {
   "cell_type": "code",
   "execution_count": 7,
   "metadata": {},
   "outputs": [
    {
     "name": "stdout",
     "output_type": "stream",
     "text": [
      "1    4684\n",
      "7    4401\n",
      "3    4351\n",
      "9    4188\n",
      "2    4177\n",
      "6    4137\n",
      "0    4132\n",
      "4    4072\n",
      "8    4063\n",
      "5    3795\n",
      "Name: label, dtype: int64\n"
     ]
    }
   ],
   "source": [
    "# How much samples remaing.\n",
    "Target = 'label'\n",
    "Labels = final[Target].unique()\n",
    "counts = final[Target].value_counts()\n",
    "print(counts)"
   ]
  },
  {
   "cell_type": "code",
   "execution_count": 8,
   "metadata": {
    "scrolled": true
   },
   "outputs": [],
   "source": [
    "frac = 0.6\n",
    "final.reset_index(inplace=True)\n",
    "#train = final.loc[1:int(round(len(final.index)*frac)),:]\n",
    "#test =  final.loc[int(round(len(final.index)*frac)):,:]\n",
    "train = final.loc[1:500,:]\n",
    "test =  final.loc[501:1001,:]\n",
    "train.reset_index(inplace=True)\n",
    "test.reset_index(inplace=True)\n",
    "train = train.drop(train.columns[0:2], axis=1)\n",
    "test = test.drop(test.columns[0:2], axis=1)"
   ]
  },
  {
   "cell_type": "code",
   "execution_count": 9,
   "metadata": {},
   "outputs": [],
   "source": [
    "train = train.drop(train.columns[0:2], axis=1)\n",
    "test = test.drop(test.columns[0:2], axis=1)"
   ]
  },
  {
   "cell_type": "code",
   "execution_count": 11,
   "metadata": {},
   "outputs": [
    {
     "name": "stdout",
     "output_type": "stream",
     "text": [
      "1    2769\n",
      "7    2656\n",
      "3    2580\n",
      "2    2557\n",
      "9    2542\n",
      "6    2488\n",
      "4    2437\n",
      "0    2431\n",
      "8    2411\n",
      "5    2329\n",
      "Name: label, dtype: int64\n",
      "1    1915\n",
      "3    1771\n",
      "7    1745\n",
      "0    1701\n",
      "8    1652\n",
      "6    1648\n",
      "9    1646\n",
      "4    1635\n",
      "2    1620\n",
      "5    1467\n",
      "Name: label, dtype: int64\n"
     ]
    }
   ],
   "source": [
    "# Counting...\n",
    "\n",
    "Labels = train[Target].unique()\n",
    "counts = train[Target].value_counts()\n",
    "print(counts)\n",
    "\n",
    "Labels = test[Target].unique()\n",
    "counts = test[Target].value_counts()\n",
    "print(counts)"
   ]
  },
  {
   "cell_type": "code",
   "execution_count": 12,
   "metadata": {},
   "outputs": [],
   "source": [
    "# Save the dataset in CSV.\n",
    "train.to_csv('dataset.training.csv.mnist', sep=',',  encoding='ascii', decimal='.', index=False, header=False)\n",
    "test.to_csv('dataset.test.csv.mnist', sep=',',  encoding='ascii', decimal='.', index=False, header=False)"
   ]
  },
  {
   "cell_type": "code",
   "execution_count": null,
   "metadata": {},
   "outputs": [],
   "source": []
  }
 ],
 "metadata": {
  "kernelspec": {
   "display_name": "Python 3",
   "language": "python",
   "name": "python3"
  },
  "language_info": {
   "codemirror_mode": {
    "name": "ipython",
    "version": 3
   },
   "file_extension": ".py",
   "mimetype": "text/x-python",
   "name": "python",
   "nbconvert_exporter": "python",
   "pygments_lexer": "ipython3",
   "version": "3.6.5"
  }
 },
 "nbformat": 4,
 "nbformat_minor": 2
}
