{
 "cells": [
  {
   "cell_type": "markdown",
   "metadata": {},
   "source": [
    "### Only for format  the raw data."
   ]
  },
  {
   "cell_type": "code",
   "execution_count": 3,
   "metadata": {
    "scrolled": true
   },
   "outputs": [],
   "source": [
    "import pandas as pd"
   ]
  },
  {
   "cell_type": "markdown",
   "metadata": {},
   "source": [
    "#### Load and format dataset Titanic survived dataset. "
   ]
  },
  {
   "cell_type": "code",
   "execution_count": 4,
   "metadata": {},
   "outputs": [
    {
     "name": "stdout",
     "output_type": "stream",
     "text": [
      "0    549\n",
      "1    342\n",
      "Name: Survived, dtype: int64\n",
      "0    266\n",
      "1    152\n",
      "Name: Survived, dtype: int64\n"
     ]
    }
   ],
   "source": [
    "# laod original trainning dataset.\n",
    "train_data = pd.read_csv(\n",
    "    \"train.csv\",\n",
    "    sep=r'\\s*,\\s*',\n",
    "    quotechar=\"'\",\n",
    "    engine='python',\n",
    "    index_col=False,\n",
    "    na_values=\"?\")\n",
    "\n",
    "# Counting...\n",
    "Target = 'Survived'\n",
    "Labels = train_data[Target].unique()\n",
    "counts = train_data[Target].value_counts()\n",
    "print(counts)\n",
    "\n",
    "# laod original testing dataset (dataset without labels).\n",
    "test_data = pd.read_csv(\n",
    "    \"test.csv\",\n",
    "    sep=r'\\s*,\\s*',\n",
    "    engine='python',\n",
    "    quotechar=\"'\",\n",
    "    index_col=False,\n",
    "    na_values=\"?\")\n",
    "\n",
    "# Load labels for testing dataset.\n",
    "test_labels = pd.read_csv(\n",
    "    \"gender_submission.csv\",\n",
    "    sep=r'\\s*,\\s*',\n",
    "    engine='python',\n",
    "    na_values=\"?\")\n",
    "\n",
    "# Counting...\n",
    "Target = 'Survived'\n",
    "Labels = test_labels[Target].unique()\n",
    "counts = test_labels[Target].value_counts()\n",
    "print(counts)"
   ]
  },
  {
   "cell_type": "code",
   "execution_count": 5,
   "metadata": {
    "scrolled": true
   },
   "outputs": [],
   "source": [
    "# Fusion labels to fusion train and test.\n",
    "test_data['Survived'] = test_labels['Survived']"
   ]
  },
  {
   "cell_type": "code",
   "execution_count": 6,
   "metadata": {},
   "outputs": [],
   "source": [
    "# Fusion the datasets using only selected features.\n",
    "final = pd.concat([train_data[[\"Pclass\",\"Sex\",\"Age\",\"SibSp\",\"Parch\",\"Fare\",\"Embarked\",\"Survived\"]], test_data[[\"Pclass\",\"Sex\",\"Age\",\"SibSp\",\"Parch\",\"Fare\",\"Embarked\",\"Survived\"]]])"
   ]
  },
  {
   "cell_type": "code",
   "execution_count": 7,
   "metadata": {},
   "outputs": [],
   "source": [
    "# Shuffling the data\n",
    "final = final.sample(frac=1)\n",
    "# Drop missing data\n",
    "final = final.dropna()\n",
    "# Convert to integer\n",
    "final['Age'] = final['Age'].astype('float').astype('int64')\n",
    "final['Fare'] = final['Fare'].astype('float').astype('int64')\n",
    "# Converto to categorical features\n",
    "final = final.astype('category')"
   ]
  },
  {
   "cell_type": "code",
   "execution_count": 143,
   "metadata": {},
   "outputs": [
    {
     "name": "stdout",
     "output_type": "stream",
     "text": [
      "0    628\n",
      "1    415\n",
      "Name: Survived, dtype: int64\n"
     ]
    }
   ],
   "source": [
    "# How much samples remaing.\n",
    "Target = 'Survived'\n",
    "Labels = final[Target].unique()\n",
    "counts = final[Target].value_counts()\n",
    "print(counts)"
   ]
  },
  {
   "cell_type": "code",
   "execution_count": 144,
   "metadata": {},
   "outputs": [],
   "source": [
    "# Split the data by labels.\n",
    "final0 = final.loc[final['Survived'] == 0]\n",
    "final1 = final.loc[final['Survived'] == 1]\n",
    "final0.reset_index(inplace=True)\n",
    "final1.reset_index(inplace=True)"
   ]
  },
  {
   "cell_type": "code",
   "execution_count": 146,
   "metadata": {},
   "outputs": [],
   "source": []
  },
  {
   "cell_type": "code",
   "execution_count": 149,
   "metadata": {},
   "outputs": [],
   "source": [
    "# A function to use 'frac' parameter.\n",
    "# Split the data in frac < 1 for trainning and (1 - frac) for testing.\n",
    "\n",
    "def makedata(final0,final1,frac):\n",
    "    side0A = final0.loc[1:int(round(final0['index'].count()*frac)),:]\n",
    "    side0B = final0.loc[int(round(final0['index'].count()*frac)):,:]\n",
    "    side1A = final1.loc[1:int(round(final1['index'].count()*frac)),:]\n",
    "    side1B = final1.loc[int(round(final1['index'].count()*frac)):,:]\n",
    "    train = [side0A, side1A]\n",
    "    test = [side0B, side1B]\n",
    "    tempA = pd.concat(train).sample(frac=1)\n",
    "    tempA.reset_index(inplace=True)\n",
    "    tempB = pd.concat(test).sample(frac=1)\n",
    "    tempB.reset_index(inplace=True)\n",
    "    tempA = tempA.drop(tempA.columns[0:2], axis=1)\n",
    "    tempB = tempB.drop(tempB.columns[0:2], axis=1)\n",
    "    tempA = tempA.astype('str')\n",
    "    tempB = tempB.astype('str')\n",
    "    return tempA, tempB"
   ]
  },
  {
   "cell_type": "code",
   "execution_count": 150,
   "metadata": {},
   "outputs": [],
   "source": [
    "train, test = makedata(final0,final1,0.6)"
   ]
  },
  {
   "cell_type": "code",
   "execution_count": 151,
   "metadata": {},
   "outputs": [
    {
     "name": "stdout",
     "output_type": "stream",
     "text": [
      "0    377\n",
      "1    249\n",
      "Name: Survived, dtype: int64\n",
      "0    251\n",
      "1    166\n",
      "Name: Survived, dtype: int64\n"
     ]
    }
   ],
   "source": [
    "# Counting...\n",
    "\n",
    "Target = 'Survived'\n",
    "Labels = train[Target].unique()\n",
    "counts = train[Target].value_counts()\n",
    "print(counts)\n",
    "\n",
    "Target = 'Survived'\n",
    "Labels = test[Target].unique()\n",
    "counts = test[Target].value_counts()\n",
    "print(counts)"
   ]
  },
  {
   "cell_type": "code",
   "execution_count": 153,
   "metadata": {},
   "outputs": [],
   "source": [
    "# Save the dataset in CSV.\n",
    "train.to_csv('dataset.training.csv.titanic', sep=',',  encoding='ascii', decimal='.', index=False, header=False)\n",
    "test.to_csv('dataset.test.csv.titanic', sep=',',  encoding='ascii', decimal='.', index=False, header=False)"
   ]
  }
 ],
 "metadata": {
  "kernelspec": {
   "display_name": "Python 3",
   "language": "python",
   "name": "python3"
  },
  "language_info": {
   "codemirror_mode": {
    "name": "ipython",
    "version": 3
   },
   "file_extension": ".py",
   "mimetype": "text/x-python",
   "name": "python",
   "nbconvert_exporter": "python",
   "pygments_lexer": "ipython3",
   "version": "3.6.5"
  }
 },
 "nbformat": 4,
 "nbformat_minor": 2
}
