{
 "cells": [
  {
   "cell_type": "markdown",
   "metadata": {},
   "source": [
    "# Decision Tree from the scratch (using dataset Adult from UCI)\n",
    "\n",
    "A modifield version of:\n",
    "Decision Tree from the Scratch, Rakend Dubba (Computational Engineer | Data Scientist).\n",
    "*Source:* https://medium.com/@rakendd/decision-tree-from-scratch-9e23bcfb4928.\n",
    "\n",
    "After exemplo2, in this example we will use numeric features."
   ]
  },
  {
   "cell_type": "code",
   "execution_count": 2,
   "metadata": {},
   "outputs": [
    {
     "name": "stderr",
     "output_type": "stream",
     "text": [
      "/usr/lib/python3.6/importlib/_bootstrap.py:219: RuntimeWarning: numpy.dtype size changed, may indicate binary incompatibility. Expected 96, got 88\n",
      "  return f(*args, **kwds)\n",
      "/usr/lib/python3.6/importlib/_bootstrap.py:219: RuntimeWarning: numpy.dtype size changed, may indicate binary incompatibility. Expected 96, got 88\n",
      "  return f(*args, **kwds)\n"
     ]
    }
   ],
   "source": [
    "import numpy as np\n",
    "import pandas as pd\n",
    "eps = np.finfo(float).eps\n",
    "from numpy import log2 as log\n",
    "from anytree import Node, RenderTree\n",
    "from anytree import search as anys\n",
    "from anytree.exporter import DotExporter\n",
    "from IPython.display import Image"
   ]
  },
  {
   "cell_type": "markdown",
   "metadata": {},
   "source": [
    "##### Load dataset:"
   ]
  },
  {
   "cell_type": "code",
   "execution_count": 72,
   "metadata": {},
   "outputs": [
    {
     "name": "stdout",
     "output_type": "stream",
     "text": [
      "<=50K    5\n",
      ">50K     5\n",
      "Name: Target, dtype: int64\n",
      "50\n"
     ]
    }
   ],
   "source": [
    "n_samples = 10\n",
    "n_samples_test = n_samples*1\n",
    "features = [\"Age\", \"Workclass\", \"fnlwgt\", \"Education\", \"Education-Num\", \"Marital Status\",\n",
    "            \"Occupation\", \"Relationship\", \"Race\", \"Sex\", \"Capital Gain\", \"Capital Loss\",\n",
    "            \"Hours per week\", \"Country\", \"Target\"]\n",
    "train_data = pd.read_csv(\n",
    "    #\"https://archive.ics.uci.edu/ml/machine-learning-databases/adult/adult.data\",\n",
    "    \"adult.data\",\n",
    "    names=features,\n",
    "    sep=r'\\s*,\\s*',\n",
    "    engine='python',\n",
    "    na_values=\"?\").sample(n_samples).reset_index(drop=True)\n",
    "test_data = pd.read_csv(\n",
    "    #\"https://archive.ics.uci.edu/ml/machine-learning-databases/adult/adult.test\",\n",
    "    \"adult.test_fix\",\n",
    "    names=features,\n",
    "    sep=r'\\s*,\\s*',\n",
    "    skiprows=[0],\n",
    "    engine='python',\n",
    "    na_values=\"?\").sample(n_samples_test).reset_index(drop=True)\n",
    "\n",
    "\n",
    "def formata_dados(dados):\n",
    "    for chave in dados.keys():\n",
    "        if not np.issubdtype(dados[chave].dtype, np.number):\n",
    "            dados[chave] = dados[chave].astype(str)\n",
    "        elif (len(dados[chave].unique())<5):\n",
    "            dados[chave] = dados[chave].astype(str)\n",
    "    return dados\n",
    "\n",
    "train_data = formata_dados(train_data)\n",
    "test_data = formata_dados(test_data)\n",
    "\n",
    "Target = 'Target'\n",
    "Labels = train_data.Target.unique()\n",
    "counts = train_data.Target.value_counts()\n",
    "print(counts)\n",
    "print(int(100*counts.min()/n_samples))"
   ]
  },
  {
   "cell_type": "code",
   "execution_count": 73,
   "metadata": {},
   "outputs": [],
   "source": [
    "def find_entropy(df):\n",
    "    entropy = 0\n",
    "    values = df[Target].unique()\n",
    "    for value in values:\n",
    "        temp = df[Target].value_counts()[value]/len(df[Target])\n",
    "        entropy += -temp*np.log2(temp)\n",
    "    return entropy\n",
    "\n",
    "def find_entropy_attribute(df,attribute):\n",
    "    \n",
    "    if not np.issubdtype(df[attribute].dtype, np.number):   \n",
    "        return find_entropy_attribute_not_number(df,attribute), None\n",
    "    else:\n",
    "        return find_entropy_attribute_number(df,attribute)\n",
    "          \n",
    "        \n",
    "def find_entropy_attribute_not_number(df,attribute):\n",
    "    target_variables = df[Target].unique()  #This gives all 'Yes' and 'No'\n",
    "    variables = df[attribute].unique()    #This gives different features in that attribute (like 'Hot','Cold' in Temperature)\n",
    "    entropy2 = 0\n",
    "    for variable in variables:\n",
    "        entropy = 0\n",
    "        for target_variable in target_variables:\n",
    "            num = len(df[attribute][df[attribute]==variable][df[Target] ==target_variable])\n",
    "            den = len(df[attribute][df[attribute]==variable])\n",
    "            fraction = num/(den+eps)\n",
    "            entropy += -fraction*log(fraction+eps)\n",
    "        entropy2 += -(den/len(df))*entropy\n",
    "    return abs(entropy2)\n",
    "\n",
    "\n",
    "def find_entropy_attribute_number(df,attribute):\n",
    "    target_variables = df[Target].unique()  #This gives all 'Yes' and 'No'\n",
    "    variables = df[attribute].unique()    #This gives different features in that attribute (like 'Hot','Cold' in Temperature)\n",
    "    variables.sort()\n",
    "    if len(variables)>2:\n",
    "        variables = variables[1:-1]\n",
    "        vk3 = variables[1]\n",
    "    else:\n",
    "        vk3 = variables[0]\n",
    "    entropy3 = 0\n",
    "    for vk in variables:\n",
    "        entropy = 0\n",
    "        for target_variable in target_variables:\n",
    "            num = len(df[attribute][df[attribute]<=vk][df[Target] ==target_variable])\n",
    "            den = len(df[attribute][df[attribute]<=vk])\n",
    "            fraction = num/(den+eps)\n",
    "            entropy += -fraction*log(fraction+eps)\n",
    "        for target_variable in target_variables:\n",
    "            num = len(df[attribute][df[attribute]>vk][df[Target] ==target_variable])\n",
    "            den = len(df[attribute][df[attribute]>vk])\n",
    "            fraction = num/(den+eps)\n",
    "            entropy += -fraction*log(fraction+eps)\n",
    "        entropy2 = (den/len(df))*abs(entropy)\n",
    "        #print(str(entropy2)+\"|\"+str(vk))\n",
    "        if entropy2>entropy3:\n",
    "            entropy3 = entropy2\n",
    "            vk3 = vk\n",
    "    return abs(entropy3),vk3\n",
    "\n",
    "def find_winner(df):\n",
    "    IG = []\n",
    "    vk = list()\n",
    "    for key in df.columns.difference([Target]):\n",
    "        temp,temp2 = find_entropy_attribute(df,key)\n",
    "        vk.append(temp2)\n",
    "        IG.append(find_entropy(df)-temp)\n",
    "    return df.columns.difference([Target])[np.argmax(IG)], vk[np.argmax(IG)]\n",
    "\n",
    "def buildtree(df,tree=None, mytree=None, T_pro=0.1, T_pro_num=0.4):\n",
    "    \n",
    "    def ramificatree(Thd):\n",
    "        if (len(clValue)==1):\n",
    "            tree[node][value] = clValue[0]\n",
    "            print(node +' : '+value+' : '+clValue[0])\n",
    "        else:\n",
    "            rel_counts = counts.min() / counts.max()\n",
    "            if (rel_counts<Thd):\n",
    "                tree[node][value] = clValue[counts.argmax()]\n",
    "                print(node +' : '+value+' : '+clValue[counts.argmax()])\n",
    "            else:\n",
    "                tree[node][value] = buildtree(subtable)\n",
    "                print(node +' : '+value+' : *')\n",
    "    print(find_winner(df))\n",
    "    node,vk = find_winner(df)\n",
    "\n",
    "    if tree is None:\n",
    "        tree={}\n",
    "        tree[node] = {}\n",
    "\n",
    "    if vk is None:\n",
    "        attValue = np.unique(df[node])\n",
    "        for value in attValue:\n",
    "\n",
    "            subtable = df[df[node] == value].reset_index(drop=True)\n",
    "            clValue,counts = np.unique(subtable[Target],return_counts=True)\n",
    "\n",
    "            ramificatree(T_pro)\n",
    "    else:\n",
    "\n",
    "        # >vk\n",
    "        value = node+' >'+str(vk)\n",
    "        subtable = df[df[node] > vk].rename(columns = {node:value}).reset_index(drop=True)\n",
    "        clValue,counts = np.unique(subtable[Target],return_counts=True)\n",
    "\n",
    "        ramificatree(T_pro_num)\n",
    "\n",
    "        # <=vk\n",
    "        value = node+' <='+str(vk)\n",
    "        subtable = df[df[node] <= vk].rename(columns = {node:value}).reset_index(drop=True)\n",
    "        clValue,counts = np.unique(subtable[Target],return_counts=True)\n",
    "\n",
    "        ramificatree(T_pro_num)\n",
    "        \n",
    "    return tree\n",
    "\n",
    "def predict(inst,tree):\n",
    "\n",
    "    for nodes in tree.keys():        \n",
    "        \n",
    "        value = inst[nodes]\n",
    "        if value in tree[nodes].keys():\n",
    "            tree = tree[nodes][value]\n",
    "            prediction = None\n",
    "            if type(tree) is dict:\n",
    "                prediction = predict(inst, tree)\n",
    "            else:\n",
    "                prediction = tree\n",
    "                break;\n",
    "        else:\n",
    "            prediction = 'Not exists node.'\n",
    "        \n",
    "    return prediction\n",
    "\n",
    "# Only to see\n",
    "\n",
    "def print_tree(arg):\n",
    "    for pre, fill, node in RenderTree(arg):\n",
    "        print(\"%s%s\" % (pre, node.name))\n",
    "        \n",
    "def converte_para_anytree(tree,node=None,mytree=None):\n",
    "    \n",
    "    if node is None:\n",
    "        temp = list(tree.keys())\n",
    "        node = temp[0]\n",
    "        mytree = {}\n",
    "        mytree[node] = Node(node)\n",
    "        converte_para_anytree(tree,node,mytree)\n",
    "    else:\n",
    "        tree = tree[node]\n",
    "        childs = list(tree.keys())\n",
    "        for child in childs:\n",
    "            if ((tree[child] == Labels[0]) or (tree[child] == Labels[1])):\n",
    "                temp = mytree[node]\n",
    "                mytree[child] = Node(child, parent=temp, target=tree[child])\n",
    "            else:\n",
    "                temp = mytree[node]\n",
    "                mytree[child] = Node(child, parent=temp)\n",
    "                converte_para_anytree(tree,child,mytree)\n",
    "                \n",
    "    return mytree\n",
    "\n",
    "#anys.findall_by_attr(mytree['Taste'], name=\"target\", value='Yes')\n",
    "\n",
    "def mostra_tree(tree):\n",
    "    mytree = converte_para_anytree(tree)\n",
    "\n",
    "    temp = list(tree.keys())\n",
    "    root = temp[0]\n",
    "    mytree[root]\n",
    "\n",
    "    for pre, fill, node in RenderTree(mytree[root]):\n",
    "        txt_node = str(node)\n",
    "        if  Labels[0] in txt_node:\n",
    "            print(\"%s%s\" % (pre, node.name+': '+Labels[0]))\n",
    "        elif Labels[1] in txt_node:\n",
    "            print(\"%s%s\" % (pre, node.name+': '+Labels[1]))\n",
    "        else:\n",
    "            print(\"%s%s\" % (pre, node.name))\n",
    "    \n",
    "    \n",
    "def mostra_tree_graph(tree):\n",
    "    mytree = converte_para_anytree(tree)\n",
    "\n",
    "    temp = list(tree.keys())\n",
    "    root = temp[0]\n",
    "    mytree[root]\n",
    "    DotExporter(mytree[root]).to_picture(\"tree.png\")\n",
    "    return Image(filename='tree.png') \n",
    "\n",
    "def test_step(arg,tree):\n",
    "    S = 0\n",
    "    for i in range(0,len(arg)):\n",
    "        S += (predict(arg.iloc[i],tree) == arg.iloc[i].Target)*1\n",
    "\n",
    "    print(S / len(arg))"
   ]
  },
  {
   "cell_type": "code",
   "execution_count": 74,
   "metadata": {
    "scrolled": true
   },
   "outputs": [
    {
     "data": {
      "text/plain": [
       "(1.599999999999999, 107218)"
      ]
     },
     "execution_count": 74,
     "metadata": {},
     "output_type": "execute_result"
    }
   ],
   "source": [
    "find_entropy_attribute(train_data,'fnlwgt')"
   ]
  },
  {
   "cell_type": "code",
   "execution_count": 75,
   "metadata": {},
   "outputs": [
    {
     "data": {
      "text/plain": [
       "('Occupation', None)"
      ]
     },
     "execution_count": 75,
     "metadata": {},
     "output_type": "execute_result"
    }
   ],
   "source": [
    "find_winner(train_data)"
   ]
  },
  {
   "cell_type": "code",
   "execution_count": 76,
   "metadata": {},
   "outputs": [
    {
     "name": "stdout",
     "output_type": "stream",
     "text": [
      "('Occupation', None)\n",
      "Occupation : Adm-clerical : <=50K\n",
      "Occupation : Exec-managerial : >50K\n",
      "Occupation : Machine-op-inspct : >50K\n",
      "Occupation : Other-service : <=50K\n",
      "('Age', 36)\n",
      "Age : Age >36 : >50K\n",
      "Age : Age <=36 : <=50K\n",
      "Occupation : Sales : *\n"
     ]
    }
   ],
   "source": [
    "tree = None\n",
    "tree = buildtree(train_data,T_pro = 0.2)"
   ]
  },
  {
   "cell_type": "code",
   "execution_count": 77,
   "metadata": {},
   "outputs": [
    {
     "data": {
      "text/plain": [
       "{'Occupation': {'Adm-clerical': '<=50K',\n",
       "  'Exec-managerial': '>50K',\n",
       "  'Machine-op-inspct': '>50K',\n",
       "  'Other-service': '<=50K',\n",
       "  'Sales': {'Age': {'Age <=36': '<=50K', 'Age >36': '>50K'}}}}"
      ]
     },
     "execution_count": 77,
     "metadata": {},
     "output_type": "execute_result"
    }
   ],
   "source": [
    "tree"
   ]
  },
  {
   "cell_type": "code",
   "execution_count": 78,
   "metadata": {},
   "outputs": [
    {
     "name": "stdout",
     "output_type": "stream",
     "text": [
      "Occupation\n",
      "├── Adm-clerical: <=50K\n",
      "├── Exec-managerial: >50K\n",
      "├── Machine-op-inspct: >50K\n",
      "├── Other-service: <=50K\n",
      "└── Sales\n",
      "    └── Age\n",
      "        ├── Age >36: >50K\n",
      "        └── Age <=36: <=50K\n"
     ]
    }
   ],
   "source": [
    "mostra_tree(tree)"
   ]
  },
  {
   "cell_type": "code",
   "execution_count": 79,
   "metadata": {},
   "outputs": [
    {
     "data": {
      "image/png": "[encoded data removed]",
      "text/plain": [
       "<IPython.core.display.Image object>"
      ]
     },
     "execution_count": 79,
     "metadata": {},
     "output_type": "execute_result"
    }
   ],
   "source": [
    "mostra_tree_graph(tree)\n"
   ]
  },
  {
   "cell_type": "code",
   "execution_count": 80,
   "metadata": {},
   "outputs": [
    {
     "name": "stdout",
     "output_type": "stream",
     "text": [
      "0.1\n"
     ]
    }
   ],
   "source": [
    "test_step(test_data,tree)"
   ]
  },
  {
   "cell_type": "code",
   "execution_count": 81,
   "metadata": {},
   "outputs": [
    {
     "data": {
      "text/plain": [
       "'>50K'"
      ]
     },
     "execution_count": 81,
     "metadata": {},
     "output_type": "execute_result"
    }
   ],
   "source": [
    "predict(test_data.iloc[2],tree)              "
   ]
  },
  {
   "cell_type": "code",
   "execution_count": null,
   "metadata": {},
   "outputs": [],
   "source": []
  }
 ],
 "metadata": {
  "kernelspec": {
   "display_name": "Python 3",
   "language": "python",
   "name": "python3"
  },
  "language_info": {
   "codemirror_mode": {
    "name": "ipython",
    "version": 3
   },
   "file_extension": ".py",
   "mimetype": "text/x-python",
   "name": "python",
   "nbconvert_exporter": "python",
   "pygments_lexer": "ipython3",
   "version": "3.6.5"
  }
 },
 "nbformat": 4,
 "nbformat_minor": 2
}
