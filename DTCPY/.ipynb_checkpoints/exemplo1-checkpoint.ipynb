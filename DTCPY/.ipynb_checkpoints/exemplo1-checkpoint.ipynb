{
 "cells": [
  {
   "cell_type": "markdown",
   "metadata": {},
   "source": [
    "# Decision Tree from the Scratch\n",
    "\n",
    "A modifield version of:\n",
    "Decision Tree from the Scratch, Rakend Dubba (Computational Engineer | Data Scientist).\n",
    "*Source:* 'https://medium.com/@rakendd/decision-tree-from-scratch-9e23bcfb4928'."
   ]
  },
  {
   "cell_type": "code",
   "execution_count": 171,
   "metadata": {},
   "outputs": [],
   "source": [
    "import numpy as np\n",
    "import pandas as pd\n",
    "eps = np.finfo(float).eps\n",
    "from numpy import log2 as log\n",
    "from anytree import Node, RenderTree\n",
    "from anytree.importer import DictImporter\n",
    "from anytree import RenderTree\n",
    "importer = DictImporter()\n"
   ]
  },
  {
   "cell_type": "code",
   "execution_count": 19,
   "metadata": {},
   "outputs": [],
   "source": [
    "dataset = {'Taste':['Salty','Spicy','Spicy','Spicy','Spicy','Sweet','Salty','Sweet','Spicy','Salty'],\n",
    "       'Temperature':['Hot','Hot','Hot','Cold','Hot','Cold','Cold','Hot','Cold','Hot'],\n",
    "       'Texture':['Soft','Soft','Hard','Hard','Hard','Soft','Soft','Soft','Soft','Hard'],\n",
    "       'Eat':['No','No','Yes','No','Yes','Yes','No','Yes','Yes','Yes']}\n",
    "df = pd.DataFrame(dataset,columns=['Taste','Temperature','Texture','Eat'])\n",
    "Target = 'Eat'"
   ]
  },
  {
   "cell_type": "markdown",
   "metadata": {},
   "source": [
    "##### Dataset\n",
    "\n",
    "There is a dataset with attributes (features) $X$, labels $Y$, classes $\\Omega$ (Target) and $N$ samples :"
   ]
  },
  {
   "cell_type": "code",
   "execution_count": 20,
   "metadata": {},
   "outputs": [
    {
     "data": {
      "text/html": [
       "<div>\n",
       "<style scoped>\n",
       "    .dataframe tbody tr th:only-of-type {\n",
       "        vertical-align: middle;\n",
       "    }\n",
       "\n",
       "    .dataframe tbody tr th {\n",
       "        vertical-align: top;\n",
       "    }\n",
       "\n",
       "    .dataframe thead th {\n",
       "        text-align: right;\n",
       "    }\n",
       "</style>\n",
       "<table border=\"1\" class=\"dataframe\">\n",
       "  <thead>\n",
       "    <tr style=\"text-align: right;\">\n",
       "      <th></th>\n",
       "      <th>Taste</th>\n",
       "      <th>Temperature</th>\n",
       "      <th>Texture</th>\n",
       "      <th>Eat</th>\n",
       "    </tr>\n",
       "  </thead>\n",
       "  <tbody>\n",
       "    <tr>\n",
       "      <th>0</th>\n",
       "      <td>Salty</td>\n",
       "      <td>Hot</td>\n",
       "      <td>Soft</td>\n",
       "      <td>No</td>\n",
       "    </tr>\n",
       "    <tr>\n",
       "      <th>1</th>\n",
       "      <td>Spicy</td>\n",
       "      <td>Hot</td>\n",
       "      <td>Soft</td>\n",
       "      <td>No</td>\n",
       "    </tr>\n",
       "    <tr>\n",
       "      <th>2</th>\n",
       "      <td>Spicy</td>\n",
       "      <td>Hot</td>\n",
       "      <td>Hard</td>\n",
       "      <td>Yes</td>\n",
       "    </tr>\n",
       "    <tr>\n",
       "      <th>3</th>\n",
       "      <td>Spicy</td>\n",
       "      <td>Cold</td>\n",
       "      <td>Hard</td>\n",
       "      <td>No</td>\n",
       "    </tr>\n",
       "    <tr>\n",
       "      <th>4</th>\n",
       "      <td>Spicy</td>\n",
       "      <td>Hot</td>\n",
       "      <td>Hard</td>\n",
       "      <td>Yes</td>\n",
       "    </tr>\n",
       "    <tr>\n",
       "      <th>5</th>\n",
       "      <td>Sweet</td>\n",
       "      <td>Cold</td>\n",
       "      <td>Soft</td>\n",
       "      <td>Yes</td>\n",
       "    </tr>\n",
       "    <tr>\n",
       "      <th>6</th>\n",
       "      <td>Salty</td>\n",
       "      <td>Cold</td>\n",
       "      <td>Soft</td>\n",
       "      <td>No</td>\n",
       "    </tr>\n",
       "    <tr>\n",
       "      <th>7</th>\n",
       "      <td>Sweet</td>\n",
       "      <td>Hot</td>\n",
       "      <td>Soft</td>\n",
       "      <td>Yes</td>\n",
       "    </tr>\n",
       "    <tr>\n",
       "      <th>8</th>\n",
       "      <td>Spicy</td>\n",
       "      <td>Cold</td>\n",
       "      <td>Soft</td>\n",
       "      <td>Yes</td>\n",
       "    </tr>\n",
       "    <tr>\n",
       "      <th>9</th>\n",
       "      <td>Salty</td>\n",
       "      <td>Hot</td>\n",
       "      <td>Hard</td>\n",
       "      <td>Yes</td>\n",
       "    </tr>\n",
       "  </tbody>\n",
       "</table>\n",
       "</div>"
      ],
      "text/plain": [
       "   Taste Temperature Texture  Eat\n",
       "0  Salty         Hot    Soft   No\n",
       "1  Spicy         Hot    Soft   No\n",
       "2  Spicy         Hot    Hard  Yes\n",
       "3  Spicy        Cold    Hard   No\n",
       "4  Spicy         Hot    Hard  Yes\n",
       "5  Sweet        Cold    Soft  Yes\n",
       "6  Salty        Cold    Soft   No\n",
       "7  Sweet         Hot    Soft  Yes\n",
       "8  Spicy        Cold    Soft  Yes\n",
       "9  Salty         Hot    Hard  Yes"
      ]
     },
     "execution_count": 20,
     "metadata": {},
     "output_type": "execute_result"
    }
   ],
   "source": [
    "df"
   ]
  },
  {
   "cell_type": "markdown",
   "metadata": {},
   "source": [
    "##### Impurity functions:\n",
    "\n",
    "- **Gini index** [Gini, 1912]:\n",
    "\n",
    "$ i_G(t) = \\sum\\limits_{k \\forall \\Omega} p_{kt}(1 - p_{kt}) $\n",
    "\n",
    "- **Shannon entropy** [Shannon and Waver, 1949]:\n",
    "\n",
    "$ i_H(t) = \\sum\\limits_{k \\forall \\Omega} |p_{kt}\\log_2(p_{kt})| $\n",
    "\n",
    "With the set of classes $\\Omega$ and the probability of $k$-classe given node $t$: $p_{kt} \\triangleq p(c_k|t) ~|~ p(c_k|t) \\in [0, 1]$.\n",
    "Obs.: some authors uses $S$ (common symbol) to denote *entropy*, here we use $i$ (impurity).\n",
    "Obs. 2: see Figure 3.1 and 3.3 in Louppe [2014] for a better view of a decision tree structure.\n",
    "\n",
    "- **Fcuntion defined**:\n",
    "\n",
    "$ i_T(t) = \\sum\\limits_{k \\forall \\Omega} f_T(p_{kt}) $\n",
    "\n",
    "$f_T(x) =  \\begin{cases} \n",
    "      x(1-x) & T = \\text{Gini} \\\\\n",
    "      |x\\log_2(x)| & T = \\text{Shannon} \\\\\n",
    "   \\end{cases} $\n",
    "\n",
    "Were $T$ is the type of impurity (Gini or Shannon)."
   ]
  },
  {
   "cell_type": "code",
   "execution_count": 21,
   "metadata": {},
   "outputs": [],
   "source": [
    "def impurity_ft(pkt, gini = True):\n",
    "    if (gini):\n",
    "        return pkt*(1 - pkt)\n",
    "    else:\n",
    "        return -pkt*log(pkt)\n",
    "    \n",
    "def impurity(pkt_vec, gini = True):\n",
    "    s = 0\n",
    "    for k in range(0,len(pkt_vec)):\n",
    "        s += impurity_ft(pkt[k], gini)\n",
    "    return s"
   ]
  },
  {
   "cell_type": "markdown",
   "metadata": {},
   "source": [
    "##### Gain information functions:\n",
    "\n",
    "The main idea is create a node decision (*split* the input data) to increase the (discrminant) information (i.e., reduces the entropy). We present two ways for measure this:\n",
    "\n",
    "Considering two functions of gain information, with $ p_T = \\frac{N_{t_T}}{N_t} $, $s = \\{s : i ~|~ \\text{split using} ~X_i\\}$ and $N_t$ samples passing in the node $t$:\n",
    "\n",
    "- Kwok and Carter [1990] (?):\n",
    "\n",
    "$ \\delta(s,t) = i(t) - p_s i(t_s)$\n",
    "\n",
    "- Louppe [2014] (?) (not used in this work):\n",
    "\n",
    "$ \\delta(s,t) = i(t) - p_{Ss} g(t_{Ss}) \\left |_{S = L, R} \\right . $\n",
    "\n",
    "$ g(t) = 1 - \\max\\limits_{c \\in \\Omega} p(c|t) $\n",
    "\n",
    "With a gain of information funcion $\\delta(\\cdot)$ (i.e., decrese impurity function), $t$ node before the split $s$, $t_S$ child node side $S$ ($S$ is for right $R$ or left $L$), $i(t)$ for all samples remaing in node $t$, $t_s$ for samples remaing in node $t$ from $X_i$.\n",
    "\n"
   ]
  },
  {
   "cell_type": "code",
   "execution_count": 22,
   "metadata": {},
   "outputs": [],
   "source": [
    "def delta_inf(pkt_vec_t, pkt_vec_Xi, p_Xi, gini = True):\n",
    "    return impurity(pkt_vec_t, gini) - p_Xi*impurity(pkt_vec_Xi, gini)"
   ]
  },
  {
   "cell_type": "markdown",
   "metadata": {},
   "source": [
    "##### Algorithm to biuld the tree.\n",
    "\n",
    "**$l$-th level:**\n",
    "\n",
    "1) For each $i$ node in $l$-th level:\n",
    "    \n",
    "$s_{i,l} = \\arg\\max\\limits_{s}\\delta(s,t_{i,l-1})$\n",
    "\n",
    "2) Create each value for $X_j,~ j = \\{j : s_{i,l}\\}$: $t_{i,l+1}$.\n",
    "\n",
    "3) For $t_{i,l+1}$ with one class only, let out.\n"
   ]
  },
  {
   "cell_type": "code",
   "execution_count": 177,
   "metadata": {},
   "outputs": [],
   "source": [
    "def find_entropy(df):\n",
    "    entropy = 0\n",
    "    values = df[Target].unique()\n",
    "    for value in values:\n",
    "        temp = df[Target].value_counts()[value]/len(df[Target])\n",
    "        entropy += -temp*np.log2(temp)\n",
    "    return entropy\n",
    "\n",
    "def find_entropy_attribute(df,attribute):\n",
    "    target_variables = df[Target].unique()  #This gives all 'Yes' and 'No'\n",
    "    variables = df[attribute].unique()    #This gives different features in that attribute (like 'Hot','Cold' in Temperature)\n",
    "    entropy2 = 0\n",
    "    for variable in variables:\n",
    "        entropy = 0\n",
    "        for target_variable in target_variables:\n",
    "            num = len(df[attribute][df[attribute]==variable][df[Target] ==target_variable])\n",
    "            den = len(df[attribute][df[attribute]==variable])\n",
    "            fraction = num/(den+eps)\n",
    "            entropy += -fraction*log(fraction+eps)\n",
    "        entropy2 += -(den/len(df))*entropy\n",
    "    return abs(entropy2)\n",
    "\n",
    "\n",
    "def find_winner(df):\n",
    "    IG = []\n",
    "    for key in df.columns.difference([Target]):\n",
    "        IG.append(find_entropy(df)-find_entropy_attribute(df,key))\n",
    "    return df.columns.difference([Target])[np.argmax(IG)]\n",
    "\n",
    "def print_tree(arg):\n",
    "    for pre, fill, node in RenderTree(arg):\n",
    "        print(\"%s%s\" % (pre, node.name))\n",
    "        \n",
    "def converte_para_anytree(tree):\n",
    "    mytree = {}\n",
    "    return mytree"
   ]
  },
  {
   "cell_type": "code",
   "execution_count": 178,
   "metadata": {},
   "outputs": [],
   "source": [
    "def buildtree(df,tree=None, mytree=None):\n",
    "    node = find_winner(df)\n",
    "    attValue = np.unique(df[node])\n",
    "\n",
    "    if tree is None:\n",
    "        tree={}\n",
    "        tree[node] = {}\n",
    "\n",
    "    for value in attValue:\n",
    "\n",
    "        subtable = df[df[node] == value].reset_index(drop=True)\n",
    "        clValue,counts = np.unique(subtable[Target],return_counts=True)\n",
    "\n",
    "        if (len(clValue)==1):\n",
    "            tree[node][value] = clValue[0]\n",
    "            print(node +' : '+value+' : '+clValue[0])\n",
    "        else:\n",
    "            tree[node][value] = buildtree(subtable)\n",
    "            print(node +' : '+value+' : *')\n",
    "    return tree\n"
   ]
  },
  {
   "cell_type": "code",
   "execution_count": 179,
   "metadata": {},
   "outputs": [
    {
     "name": "stdout",
     "output_type": "stream",
     "text": [
      "Texture : Hard : Yes\n",
      "Texture : Soft : No\n",
      "Taste : Salty : *\n",
      "Texture : Hard : No\n",
      "Texture : Soft : Yes\n",
      "Temperature : Cold : *\n",
      "Texture : Hard : Yes\n",
      "Texture : Soft : No\n",
      "Temperature : Hot : *\n",
      "Taste : Spicy : *\n",
      "Taste : Sweet : Yes\n"
     ]
    }
   ],
   "source": [
    "tree = None\n",
    "tree = buildtree(df)\n"
   ]
  },
  {
   "cell_type": "code",
   "execution_count": 180,
   "metadata": {},
   "outputs": [],
   "source": [
    "mytree = converte_para_anytree(tree)"
   ]
  },
  {
   "cell_type": "code",
   "execution_count": 181,
   "metadata": {},
   "outputs": [
    {
     "ename": "AttributeError",
     "evalue": "'dict' object has no attribute 'name'",
     "output_type": "error",
     "traceback": [
      "\u001b[0;31m---------------------------------------------------------------------------\u001b[0m",
      "\u001b[0;31mAttributeError\u001b[0m                            Traceback (most recent call last)",
      "\u001b[0;32m<ipython-input-181-f0d444176ec2>\u001b[0m in \u001b[0;36m<module>\u001b[0;34m()\u001b[0m\n\u001b[1;32m      1\u001b[0m \u001b[0;32mfor\u001b[0m \u001b[0mpre\u001b[0m\u001b[0;34m,\u001b[0m \u001b[0mfill\u001b[0m\u001b[0;34m,\u001b[0m \u001b[0mnode\u001b[0m \u001b[0;32min\u001b[0m \u001b[0mRenderTree\u001b[0m\u001b[0;34m(\u001b[0m\u001b[0mmytree\u001b[0m\u001b[0;34m)\u001b[0m\u001b[0;34m:\u001b[0m\u001b[0;34m\u001b[0m\u001b[0m\n\u001b[0;32m----> 2\u001b[0;31m     \u001b[0mprint\u001b[0m\u001b[0;34m(\u001b[0m\u001b[0;34m\"%s%s\"\u001b[0m \u001b[0;34m%\u001b[0m \u001b[0;34m(\u001b[0m\u001b[0mpre\u001b[0m\u001b[0;34m,\u001b[0m \u001b[0mnode\u001b[0m\u001b[0;34m.\u001b[0m\u001b[0mname\u001b[0m\u001b[0;34m)\u001b[0m\u001b[0;34m)\u001b[0m\u001b[0;34m\u001b[0m\u001b[0m\n\u001b[0m",
      "\u001b[0;31mAttributeError\u001b[0m: 'dict' object has no attribute 'name'"
     ]
    }
   ],
   "source": [
    "for pre, fill, node in RenderTree(mytree):\n",
    "    print(\"%s%s\" % (pre, node.name))"
   ]
  },
  {
   "cell_type": "code",
   "execution_count": 182,
   "metadata": {},
   "outputs": [
    {
     "data": {
      "text/plain": [
       "{}"
      ]
     },
     "execution_count": 182,
     "metadata": {},
     "output_type": "execute_result"
    }
   ],
   "source": [
    "mytree"
   ]
  },
  {
   "cell_type": "code",
   "execution_count": null,
   "metadata": {},
   "outputs": [],
   "source": []
  }
 ],
 "metadata": {
  "kernelspec": {
   "display_name": "Python 3",
   "language": "python",
   "name": "python3"
  },
  "language_info": {
   "codemirror_mode": {
    "name": "ipython",
    "version": 3
   },
   "file_extension": ".py",
   "mimetype": "text/x-python",
   "name": "python",
   "nbconvert_exporter": "python",
   "pygments_lexer": "ipython3",
   "version": "3.6.5"
  }
 },
 "nbformat": 4,
 "nbformat_minor": 2
}
